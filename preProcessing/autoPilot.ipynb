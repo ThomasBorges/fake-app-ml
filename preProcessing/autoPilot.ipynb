{
 "metadata": {
  "language_info": {
   "codemirror_mode": {
    "name": "ipython",
    "version": 3
   },
   "file_extension": ".py",
   "mimetype": "text/x-python",
   "name": "python",
   "nbconvert_exporter": "python",
   "pygments_lexer": "ipython3",
   "version": "3.8.3-final"
  },
  "orig_nbformat": 2,
  "kernelspec": {
   "name": "Python 3.8.3 64-bit ('base': conda)",
   "display_name": "Python 3.8.3 64-bit ('base': conda)",
   "metadata": {
    "interpreter": {
     "hash": "8b12ac8dcdf553299d976986e0136e9ae96d633d605886e116064ae7fcc22f61"
    }
   }
  }
 },
 "nbformat": 4,
 "nbformat_minor": 2,
 "cells": [
  {
   "cell_type": "code",
   "execution_count": 2,
   "metadata": {},
   "outputs": [
    {
     "output_type": "stream",
     "name": "stdout",
     "text": [
      "2.16.1\n"
     ]
    }
   ],
   "source": [
    "import pandas as pd\n",
    "import numpy as np\n",
    "import boto3\n",
    "import sagemaker\n",
    "import os, sys\n",
    "\n",
    "print (sagemaker.__version__)\n",
    "\n",
    "sess   = sagemaker.Session()\n",
    "bucket = sess.default_bucket()                     \n",
    "prefix = 'sagemaker/automl-dm'\n",
    "region = boto3.Session().region_name\n",
    "\n",
    "# Role when working on a notebook instance\n",
    "role = \"arn:aws:iam::388295382521:role/service-role/AmazonSageMaker-ExecutionRole-20201029T114207\"\n",
    "\n",
    "sm = boto3.Session().client(service_name='sagemaker',region_name=region)\n",
    "sm_rt = boto3.Session().client('runtime.sagemaker', region_name=region)"
   ]
  },
  {
   "cell_type": "code",
   "execution_count": 2,
   "metadata": {},
   "outputs": [
    {
     "output_type": "stream",
     "name": "stdout",
     "text": [
      "        number of tokens  number of words in upper case  number of verbs  \\\nindice                                                                     \n2042                1284                             14              156   \n3425                 263                              3               27   \n423                  364                              2               56   \n1638                 102                              0               18   \n295                  201                              5               29   \n2005                 966                             15              118   \n2778                 843                              5               98   \n1933                 995                              7              129   \n250                   93                              0               15   \n1813                 180                              0               23   \n\n        number of subjuntive and imperative verbs  number of nouns  \\\nindice                                                               \n2042                                            6              335   \n3425                                            0               79   \n423                                             3               92   \n1638                                            1               21   \n295                                             1               48   \n2005                                            5              247   \n2778                                            7              210   \n1933                                            4              260   \n250                                             1               25   \n1813                                            0               54   \n\n        number of adjectives  number of adverbs  number of modal verbs  \\\nindice                                                                   \n2042                      59                 50                     19   \n3425                      10                  5                      4   \n423                       21                 16                     15   \n1638                       2                  3                      2   \n295                       11                  8                      2   \n2005                      35                 30                     20   \n2778                      49                 28                      9   \n1933                      36                 43                     22   \n250                        3                  8                      2   \n1813                       6                  4                      2   \n\n        number of singular first and second personal pronouns  \\\nindice                                                          \n2042                                                    3       \n3425                                                    0       \n423                                                     0       \n1638                                                    3       \n295                                                     0       \n2005                                                    1       \n2778                                                    0       \n1933                                                    2       \n250                                                     0       \n1813                                                    0       \n\n        number of plural first personal pronouns  number of pronouns  \\\nindice                                                                 \n2042                                           0                  59   \n3425                                           0                   6   \n423                                            0                  12   \n1638                                           0                  10   \n295                                            0                  10   \n2005                                           0                  39   \n2778                                           0                  34   \n1933                                           1                  44   \n250                                            0                   4   \n1813                                           0                   7   \n\n        pausality  number of chracteres  average sentence length  \\\nindice                                                             \n2042      2.23810                  5574                  18.1429   \n3425      2.80000                  1224                  23.5000   \n423       2.10526                  1644                  17.0526   \n1638      2.50000                   355                  10.2500   \n295       2.80000                   820                  17.3000   \n2005      3.69048                  4162                  19.3095   \n2778      2.00000                  3474                  16.7333   \n1933      3.28205                  4456                  22.2308   \n250       2.00000                   411                  16.6000   \n1813      2.00000                   756                  13.0000   \n\n        average word length  document_score  document_magnitude     EVENT  \\\nindice                                                                      \n2042                4.87664             0.0                11.1  0.004313   \n3425                5.20851             0.1                 1.9  0.010659   \n423                 5.07407            -0.1                 3.2  0.006097   \n1638                4.32927             0.2                 2.1       NaN   \n295                 4.73988             0.1                 2.2  0.031675   \n2005                5.13194             0.1                 8.8  0.004428   \n2778                4.61355             0.1                11.2  0.004947   \n1933                5.13956             0.0                 6.6  0.004532   \n250                 4.95181             0.0                 1.1  0.043459   \n1813                4.84615             0.1                 2.4  0.013102   \n\n        LOCATION  ORGANIZATION    PERSON classification  \nindice                                                   \n2042    0.003389      0.004387  0.002959           TRUE  \n3425    0.013729      0.014593  0.011976           FAKE  \n423     0.014327      0.006822  0.009249           FAKE  \n1638         NaN      0.134716  0.045817           FAKE  \n295     0.013872      0.023531  0.016817           FAKE  \n2005    0.003025      0.006301  0.003880           TRUE  \n2778    0.004809      0.003686  0.004117           TRUE  \n1933    0.003823      0.005632  0.004826           TRUE  \n250          NaN      0.018502  0.040543           FAKE  \n1813    0.034691      0.018139  0.016788           FAKE  \n"
     ]
    }
   ],
   "source": [
    "data = pd.read_csv('../finalCSVforTraining3.csv', sep=',')\n",
    "pd.set_option('display.max_columns', 500)     # Make sure we can see all of the columns\n",
    "pd.set_option('display.max_rows', 50)         # Keep the output on one page\n",
    "data[:10] # Show the first 10 lines\n",
    "\n",
    "data.shape # (number of lines, number of columns)\n",
    "\n",
    "train_data, test_data, _ = np.split(data.sample(frac=1, random_state=123), \n",
    "                                                  [int(0.80 * len(data)), int(len(data))])  \n",
    "\n",
    "# Save to CSV files\n",
    "train_data.drop('indice',axis=1, inplace=True)\n",
    "train_data.to_csv('automl-train.csv', index=False, header=True, sep=',') # Need to keep column names\n",
    "\n",
    "test_data.to_csv('automl-test.csv', index=False, header=True, sep=',')\n",
    "test_data.set_index('indice', inplace=True)\n",
    "#test_data.drop(0,inplace=True)\n",
    "print(test_data[:10])"
   ]
  },
  {
   "cell_type": "code",
   "execution_count": 3,
   "metadata": {},
   "outputs": [
    {
     "output_type": "execute_result",
     "data": {
      "text/plain": [
       "'s3://sagemaker-sa-east-1-388295382521/sagemaker/automl-dm/input/automl-train.csv'"
      ]
     },
     "metadata": {},
     "execution_count": 3
    }
   ],
   "source": [
    "sess.upload_data(path=\"automl-train.csv\", key_prefix=prefix + \"/input\")"
   ]
  },
  {
   "cell_type": "code",
   "execution_count": null,
   "metadata": {},
   "outputs": [],
   "source": []
  },
  {
   "cell_type": "code",
   "execution_count": 3,
   "metadata": {},
   "outputs": [],
   "source": [
    "job_config = {\n",
    "    'CompletionCriteria': {\n",
    "      'MaxRuntimePerTrainingJobInSeconds': 600,\n",
    "      # 'MaxCandidates': 10,\n",
    "      'MaxAutoMLJobRuntimeInSeconds': 3600\n",
    "    },\n",
    "}\n",
    "\n",
    "input_data_config = [{\n",
    "      'DataSource': {\n",
    "        'S3DataSource': {\n",
    "          'S3DataType': 'S3Prefix',\n",
    "          'S3Uri': 's3://{}/{}/input'.format(bucket,prefix)\n",
    "        }\n",
    "      },\n",
    "      'TargetAttributeName': 'classification'  # the column we want to predict\n",
    "    }\n",
    "]\n",
    "\n",
    "output_data_config = { 'S3OutputPath': 's3://{}/{}/output'.format(bucket,prefix) }\n",
    "\n",
    "# Optional parameters\n",
    "\n",
    "problem_type = 'BinaryClassification'\n",
    "\n",
    "job_objective = { 'MetricName': 'F1' }"
   ]
  },
  {
   "cell_type": "code",
   "execution_count": 7,
   "metadata": {},
   "outputs": [
    {
     "output_type": "stream",
     "name": "stdout",
     "text": [
      "AutoMLJobName: automl-dm-03-02-26-28\n"
     ]
    },
    {
     "output_type": "execute_result",
     "data": {
      "text/plain": [
       "{'AutoMLJobArn': 'arn:aws:sagemaker:sa-east-1:388295382521:automl-job/automl-dm-03-02-26-28',\n",
       " 'ResponseMetadata': {'RequestId': '019f07dd-e6b8-4ed8-91d7-6ef23afea0ea',\n",
       "  'HTTPStatusCode': 200,\n",
       "  'HTTPHeaders': {'x-amzn-requestid': '019f07dd-e6b8-4ed8-91d7-6ef23afea0ea',\n",
       "   'content-type': 'application/x-amz-json-1.1',\n",
       "   'content-length': '92',\n",
       "   'date': 'Tue, 03 Nov 2020 02:26:28 GMT'},\n",
       "  'RetryAttempts': 0}}"
      ]
     },
     "metadata": {},
     "execution_count": 7
    }
   ],
   "source": [
    "from time import gmtime, strftime, sleep\n",
    "timestamp_suffix = strftime('%d-%H-%M-%S', gmtime())\n",
    "\n",
    "auto_ml_job_name = 'automl-dm-' + timestamp_suffix\n",
    "print('AutoMLJobName: ' + auto_ml_job_name)\n",
    "\n",
    "sm.create_auto_ml_job(AutoMLJobName=auto_ml_job_name,\n",
    "                      InputDataConfig=input_data_config,\n",
    "                      OutputDataConfig=output_data_config,\n",
    "                      AutoMLJobConfig=job_config,\n",
    "                      AutoMLJobObjective=job_objective,\n",
    "                      ProblemType=problem_type,\n",
    "                      RoleArn=role)"
   ]
  },
  {
   "cell_type": "code",
   "execution_count": 17,
   "metadata": {},
   "outputs": [],
   "source": [
    "from time import gmtime, strftime, sleep\n",
    "timestamp_suffix = strftime('%d-%H-%M-%S', gmtime())"
   ]
  },
  {
   "cell_type": "code",
   "execution_count": 4,
   "metadata": {},
   "outputs": [],
   "source": [
    "auto_ml_job_name = 'automl-dm-03-02-26-28'"
   ]
  },
  {
   "cell_type": "code",
   "execution_count": 11,
   "metadata": {},
   "outputs": [
    {
     "output_type": "stream",
     "name": "stdout",
     "text": [
      "InProgress\n",
      "InProgress - ModelTuning\n",
      "InProgress - ModelTuning\n",
      "InProgress - ModelTuning\n",
      "InProgress - ModelTuning\n",
      "InProgress - ModelTuning\n",
      "InProgress - ModelTuning\n",
      "InProgress - ModelTuning\n",
      "InProgress - ModelTuning\n",
      "InProgress - ModelTuning\n",
      "InProgress - ModelTuning\n",
      "InProgress - ModelTuning\n",
      "InProgress - ModelTuning\n",
      "InProgress - ModelTuning\n",
      "InProgress - ModelTuning\n",
      "InProgress - ModelTuning\n",
      "InProgress - ModelTuning\n",
      "InProgress - ModelTuning\n",
      "InProgress - ModelTuning\n",
      "InProgress - ModelTuning\n",
      "InProgress - ModelTuning\n",
      "InProgress - ModelTuning\n",
      "InProgress - ModelTuning\n",
      "InProgress - ModelTuning\n",
      "InProgress - ModelTuning\n",
      "Completed - MaxAutoMLJobRuntimeReached\n",
      "CPU times: user 225 ms, sys: 55.3 ms, total: 280 ms\n",
      "Wall time: 25min 3s\n"
     ]
    }
   ],
   "source": [
    "%%time\n",
    "job_run_status = sm.describe_auto_ml_job(AutoMLJobName=auto_ml_job_name)['AutoMLJobStatus']\n",
    "\n",
    "print(job_run_status)\n",
    "\n",
    "while job_run_status not in ('Failed', 'Completed', 'Stopped'):\n",
    "    describe_response = sm.describe_auto_ml_job(AutoMLJobName=auto_ml_job_name)\n",
    "    job_run_status = describe_response['AutoMLJobStatus']\n",
    "    \n",
    "    print (describe_response['AutoMLJobStatus'] + \" - \" + describe_response['AutoMLJobSecondaryStatus'])\n",
    "    sleep(60)"
   ]
  },
  {
   "cell_type": "code",
   "execution_count": 9,
   "metadata": {},
   "outputs": [
    {
     "output_type": "stream",
     "name": "stdout",
     "text": [
      "s3://sagemaker-sa-east-1-388295382521/sagemaker/automl-dm/output/automl-dm-03-02-26-28/sagemaker-automl-candidates/pr-1-b9d63786add948db918ad2666a9129bbd7321d8f35874070aec63b1c67/notebooks/SageMakerAutopilotCandidateDefinitionNotebook.ipynb\ns3://sagemaker-sa-east-1-388295382521/sagemaker/automl-dm/output/automl-dm-03-02-26-28/sagemaker-automl-candidates/pr-1-b9d63786add948db918ad2666a9129bbd7321d8f35874070aec63b1c67/notebooks/SageMakerAutopilotDataExplorationNotebook.ipynb\n"
     ]
    }
   ],
   "source": [
    "job = sm.describe_auto_ml_job(AutoMLJobName=auto_ml_job_name)\n",
    "job_candidate_notebook = job['AutoMLJobArtifacts']['CandidateDefinitionNotebookLocation']\n",
    "job_data_notebook = job['AutoMLJobArtifacts']['DataExplorationNotebookLocation']\n",
    "\n",
    "print(job_candidate_notebook)\n",
    "print(job_data_notebook)"
   ]
  },
  {
   "cell_type": "code",
   "execution_count": 10,
   "metadata": {},
   "outputs": [
    {
     "output_type": "stream",
     "name": "stdout",
     "text": [
      "download: s3://sagemaker-sa-east-1-388295382521/sagemaker/automl-dm/output/automl-dm-03-02-26-28/sagemaker-automl-candidates/pr-1-b9d63786add948db918ad2666a9129bbd7321d8f35874070aec63b1c67/notebooks/SageMakerAutopilotCandidateDefinitionNotebook.ipynb to ./SageMakerAutopilotCandidateDefinitionNotebook.ipynb\ndownload: s3://sagemaker-sa-east-1-388295382521/sagemaker/automl-dm/output/automl-dm-03-02-26-28/sagemaker-automl-candidates/pr-1-b9d63786add948db918ad2666a9129bbd7321d8f35874070aec63b1c67/notebooks/SageMakerAutopilotDataExplorationNotebook.ipynb to ./SageMakerAutopilotDataExplorationNotebook.ipynb\n"
     ]
    }
   ],
   "source": [
    "%%sh -s $job_candidate_notebook $job_data_notebook\n",
    "aws s3 cp $1 .\n",
    "aws s3 cp $2 ."
   ]
  },
  {
   "cell_type": "code",
   "execution_count": 12,
   "metadata": {},
   "outputs": [
    {
     "output_type": "execute_result",
     "data": {
      "text/plain": [
       "                                    TrialComponentName  \\\n",
       "0    tuning-job-1-7ca4ae7007ee478598-192-cfa0233e-a...   \n",
       "1    tuning-job-1-7ca4ae7007ee478598-191-edfe3a83-a...   \n",
       "2    tuning-job-1-7ca4ae7007ee478598-185-fa2a4e9c-a...   \n",
       "3    tuning-job-1-7ca4ae7007ee478598-190-001d8452-a...   \n",
       "4    tuning-job-1-7ca4ae7007ee478598-189-431a5583-a...   \n",
       "..                                                 ...   \n",
       "198  automl-dm--dpp0-1-d87b16d1f5004797a81aaf66a511...   \n",
       "199  automl-dm--dpp1-1-21349515f9e94be3bf7d6952b28c...   \n",
       "200  automl-dm--dpp4-1-ec8888b84a764309ba6ac9827544...   \n",
       "201  automl-dm--dpp3-1-9a89d1e5ea564ff0aac45047b264...   \n",
       "202  db-1-188cf0670bb043a3b792abc741ed4a8fca902093f...   \n",
       "\n",
       "                                           DisplayName  \\\n",
       "0    tuning-job-1-7ca4ae7007ee478598-192-cfa0233e-a...   \n",
       "1    tuning-job-1-7ca4ae7007ee478598-191-edfe3a83-a...   \n",
       "2    tuning-job-1-7ca4ae7007ee478598-185-fa2a4e9c-a...   \n",
       "3    tuning-job-1-7ca4ae7007ee478598-190-001d8452-a...   \n",
       "4    tuning-job-1-7ca4ae7007ee478598-189-431a5583-a...   \n",
       "..                                                 ...   \n",
       "198  automl-dm--dpp0-1-d87b16d1f5004797a81aaf66a511...   \n",
       "199  automl-dm--dpp1-1-21349515f9e94be3bf7d6952b28c...   \n",
       "200  automl-dm--dpp4-1-ec8888b84a764309ba6ac9827544...   \n",
       "201  automl-dm--dpp3-1-9a89d1e5ea564ff0aac45047b264...   \n",
       "202  db-1-188cf0670bb043a3b792abc741ed4a8fca902093f...   \n",
       "\n",
       "                                             SourceArn  \\\n",
       "0    arn:aws:sagemaker:sa-east-1:388295382521:train...   \n",
       "1    arn:aws:sagemaker:sa-east-1:388295382521:train...   \n",
       "2    arn:aws:sagemaker:sa-east-1:388295382521:train...   \n",
       "3    arn:aws:sagemaker:sa-east-1:388295382521:train...   \n",
       "4    arn:aws:sagemaker:sa-east-1:388295382521:train...   \n",
       "..                                                 ...   \n",
       "198  arn:aws:sagemaker:sa-east-1:388295382521:train...   \n",
       "199  arn:aws:sagemaker:sa-east-1:388295382521:train...   \n",
       "200  arn:aws:sagemaker:sa-east-1:388295382521:train...   \n",
       "201  arn:aws:sagemaker:sa-east-1:388295382521:train...   \n",
       "202  arn:aws:sagemaker:sa-east-1:388295382521:proce...   \n",
       "\n",
       "                                    SageMaker.ImageUri  \\\n",
       "0    737474898029.dkr.ecr.sa-east-1.amazonaws.com/s...   \n",
       "1    737474898029.dkr.ecr.sa-east-1.amazonaws.com/s...   \n",
       "2    737474898029.dkr.ecr.sa-east-1.amazonaws.com/s...   \n",
       "3    737474898029.dkr.ecr.sa-east-1.amazonaws.com/s...   \n",
       "4    737474898029.dkr.ecr.sa-east-1.amazonaws.com/s...   \n",
       "..                                                 ...   \n",
       "198  737474898029.dkr.ecr.sa-east-1.amazonaws.com/s...   \n",
       "199  737474898029.dkr.ecr.sa-east-1.amazonaws.com/s...   \n",
       "200  737474898029.dkr.ecr.sa-east-1.amazonaws.com/s...   \n",
       "201  737474898029.dkr.ecr.sa-east-1.amazonaws.com/s...   \n",
       "202                                                NaN   \n",
       "\n",
       "     SageMaker.InstanceCount SageMaker.InstanceType  SageMaker.VolumeSizeInGB  \\\n",
       "0                        1.0          ml.m5.4xlarge                      50.0   \n",
       "1                        1.0          ml.m5.4xlarge                      50.0   \n",
       "2                        1.0          ml.m5.4xlarge                      50.0   \n",
       "3                        1.0          ml.m5.4xlarge                      50.0   \n",
       "4                        1.0          ml.m5.4xlarge                      50.0   \n",
       "..                       ...                    ...                       ...   \n",
       "198                      1.0          ml.m5.4xlarge                      50.0   \n",
       "199                      1.0          ml.m5.4xlarge                      50.0   \n",
       "200                      1.0          ml.m5.4xlarge                      50.0   \n",
       "201                      1.0          ml.m5.4xlarge                      50.0   \n",
       "202                      1.0          ml.m5.2xlarge                     250.0   \n",
       "\n",
       "    _tuning_objective_metric     alpha  colsample_bytree  ...  \\\n",
       "0              validation:f1  0.000037          0.479084  ...   \n",
       "1              validation:f1  0.837711          0.547698  ...   \n",
       "2              validation:f1  0.000009          0.387084  ...   \n",
       "3              validation:f1  0.239770          0.429856  ...   \n",
       "4              validation:f1  0.000135          0.705051  ...   \n",
       "..                       ...       ...               ...  ...   \n",
       "198                      NaN       NaN               NaN  ...   \n",
       "199                      NaN       NaN               NaN  ...   \n",
       "200                      NaN       NaN               NaN  ...   \n",
       "201                      NaN       NaN               NaN  ...   \n",
       "202                      NaN       NaN               NaN  ...   \n",
       "\n",
       "       code - MediaType                                       code - Value  \\\n",
       "0                   NaN                                                NaN   \n",
       "1                   NaN                                                NaN   \n",
       "2                   NaN                                                NaN   \n",
       "3                   NaN                                                NaN   \n",
       "4                   NaN                                                NaN   \n",
       "..                  ...                                                ...   \n",
       "198  application/x-code  s3://sagemaker-sa-east-1-388295382521/sagemake...   \n",
       "199  application/x-code  s3://sagemaker-sa-east-1-388295382521/sagemake...   \n",
       "200  application/x-code  s3://sagemaker-sa-east-1-388295382521/sagemake...   \n",
       "201  application/x-code  s3://sagemaker-sa-east-1-388295382521/sagemake...   \n",
       "202                 NaN                                                NaN   \n",
       "\n",
       "     input_channel_mode               job_name       label_col  \\\n",
       "0                   NaN                    NaN             NaN   \n",
       "1                   NaN                    NaN             NaN   \n",
       "2                   NaN                    NaN             NaN   \n",
       "3                   NaN                    NaN             NaN   \n",
       "4                   NaN                    NaN             NaN   \n",
       "..                  ...                    ...             ...   \n",
       "198                 NaN                    NaN             NaN   \n",
       "199                 NaN                    NaN             NaN   \n",
       "200                 NaN                    NaN             NaN   \n",
       "201                 NaN                    NaN             NaN   \n",
       "202                Pipe  automl-dm-03-02-26-28  classification   \n",
       "\n",
       "     max_dataset_size SageMaker.ImageUri - MediaType  \\\n",
       "0                 NaN                            NaN   \n",
       "1                 NaN                            NaN   \n",
       "2                 NaN                            NaN   \n",
       "3                 NaN                            NaN   \n",
       "4                 NaN                            NaN   \n",
       "..                ...                            ...   \n",
       "198               NaN                            NaN   \n",
       "199               NaN                            NaN   \n",
       "200               NaN                            NaN   \n",
       "201               NaN                            NaN   \n",
       "202                 5                            NaN   \n",
       "\n",
       "                            SageMaker.ImageUri - Value  ds - MediaType  \\\n",
       "0                                                  NaN             NaN   \n",
       "1                                                  NaN             NaN   \n",
       "2                                                  NaN             NaN   \n",
       "3                                                  NaN             NaN   \n",
       "4                                                  NaN             NaN   \n",
       "..                                                 ...             ...   \n",
       "198                                                NaN             NaN   \n",
       "199                                                NaN             NaN   \n",
       "200                                                NaN             NaN   \n",
       "201                                                NaN             NaN   \n",
       "202  011351689081.dkr.ecr.sa-east-1.amazonaws.com/d...             NaN   \n",
       "\n",
       "                                            ds - Value  \n",
       "0                                                  NaN  \n",
       "1                                                  NaN  \n",
       "2                                                  NaN  \n",
       "3                                                  NaN  \n",
       "4                                                  NaN  \n",
       "..                                                 ...  \n",
       "198                                                NaN  \n",
       "199                                                NaN  \n",
       "200                                                NaN  \n",
       "201                                                NaN  \n",
       "202  s3://sagemaker-sa-east-1-388295382521/sagemake...  \n",
       "\n",
       "[203 rows x 145 columns]"
      ],
      "text/html": "<div>\n<style scoped>\n    .dataframe tbody tr th:only-of-type {\n        vertical-align: middle;\n    }\n\n    .dataframe tbody tr th {\n        vertical-align: top;\n    }\n\n    .dataframe thead th {\n        text-align: right;\n    }\n</style>\n<table border=\"1\" class=\"dataframe\">\n  <thead>\n    <tr style=\"text-align: right;\">\n      <th></th>\n      <th>TrialComponentName</th>\n      <th>DisplayName</th>\n      <th>SourceArn</th>\n      <th>SageMaker.ImageUri</th>\n      <th>SageMaker.InstanceCount</th>\n      <th>SageMaker.InstanceType</th>\n      <th>SageMaker.VolumeSizeInGB</th>\n      <th>_tuning_objective_metric</th>\n      <th>alpha</th>\n      <th>colsample_bytree</th>\n      <th>...</th>\n      <th>code - MediaType</th>\n      <th>code - Value</th>\n      <th>input_channel_mode</th>\n      <th>job_name</th>\n      <th>label_col</th>\n      <th>max_dataset_size</th>\n      <th>SageMaker.ImageUri - MediaType</th>\n      <th>SageMaker.ImageUri - Value</th>\n      <th>ds - MediaType</th>\n      <th>ds - Value</th>\n    </tr>\n  </thead>\n  <tbody>\n    <tr>\n      <th>0</th>\n      <td>tuning-job-1-7ca4ae7007ee478598-192-cfa0233e-a...</td>\n      <td>tuning-job-1-7ca4ae7007ee478598-192-cfa0233e-a...</td>\n      <td>arn:aws:sagemaker:sa-east-1:388295382521:train...</td>\n      <td>737474898029.dkr.ecr.sa-east-1.amazonaws.com/s...</td>\n      <td>1.0</td>\n      <td>ml.m5.4xlarge</td>\n      <td>50.0</td>\n      <td>validation:f1</td>\n      <td>0.000037</td>\n      <td>0.479084</td>\n      <td>...</td>\n      <td>NaN</td>\n      <td>NaN</td>\n      <td>NaN</td>\n      <td>NaN</td>\n      <td>NaN</td>\n      <td>NaN</td>\n      <td>NaN</td>\n      <td>NaN</td>\n      <td>NaN</td>\n      <td>NaN</td>\n    </tr>\n    <tr>\n      <th>1</th>\n      <td>tuning-job-1-7ca4ae7007ee478598-191-edfe3a83-a...</td>\n      <td>tuning-job-1-7ca4ae7007ee478598-191-edfe3a83-a...</td>\n      <td>arn:aws:sagemaker:sa-east-1:388295382521:train...</td>\n      <td>737474898029.dkr.ecr.sa-east-1.amazonaws.com/s...</td>\n      <td>1.0</td>\n      <td>ml.m5.4xlarge</td>\n      <td>50.0</td>\n      <td>validation:f1</td>\n      <td>0.837711</td>\n      <td>0.547698</td>\n      <td>...</td>\n      <td>NaN</td>\n      <td>NaN</td>\n      <td>NaN</td>\n      <td>NaN</td>\n      <td>NaN</td>\n      <td>NaN</td>\n      <td>NaN</td>\n      <td>NaN</td>\n      <td>NaN</td>\n      <td>NaN</td>\n    </tr>\n    <tr>\n      <th>2</th>\n      <td>tuning-job-1-7ca4ae7007ee478598-185-fa2a4e9c-a...</td>\n      <td>tuning-job-1-7ca4ae7007ee478598-185-fa2a4e9c-a...</td>\n      <td>arn:aws:sagemaker:sa-east-1:388295382521:train...</td>\n      <td>737474898029.dkr.ecr.sa-east-1.amazonaws.com/s...</td>\n      <td>1.0</td>\n      <td>ml.m5.4xlarge</td>\n      <td>50.0</td>\n      <td>validation:f1</td>\n      <td>0.000009</td>\n      <td>0.387084</td>\n      <td>...</td>\n      <td>NaN</td>\n      <td>NaN</td>\n      <td>NaN</td>\n      <td>NaN</td>\n      <td>NaN</td>\n      <td>NaN</td>\n      <td>NaN</td>\n      <td>NaN</td>\n      <td>NaN</td>\n      <td>NaN</td>\n    </tr>\n    <tr>\n      <th>3</th>\n      <td>tuning-job-1-7ca4ae7007ee478598-190-001d8452-a...</td>\n      <td>tuning-job-1-7ca4ae7007ee478598-190-001d8452-a...</td>\n      <td>arn:aws:sagemaker:sa-east-1:388295382521:train...</td>\n      <td>737474898029.dkr.ecr.sa-east-1.amazonaws.com/s...</td>\n      <td>1.0</td>\n      <td>ml.m5.4xlarge</td>\n      <td>50.0</td>\n      <td>validation:f1</td>\n      <td>0.239770</td>\n      <td>0.429856</td>\n      <td>...</td>\n      <td>NaN</td>\n      <td>NaN</td>\n      <td>NaN</td>\n      <td>NaN</td>\n      <td>NaN</td>\n      <td>NaN</td>\n      <td>NaN</td>\n      <td>NaN</td>\n      <td>NaN</td>\n      <td>NaN</td>\n    </tr>\n    <tr>\n      <th>4</th>\n      <td>tuning-job-1-7ca4ae7007ee478598-189-431a5583-a...</td>\n      <td>tuning-job-1-7ca4ae7007ee478598-189-431a5583-a...</td>\n      <td>arn:aws:sagemaker:sa-east-1:388295382521:train...</td>\n      <td>737474898029.dkr.ecr.sa-east-1.amazonaws.com/s...</td>\n      <td>1.0</td>\n      <td>ml.m5.4xlarge</td>\n      <td>50.0</td>\n      <td>validation:f1</td>\n      <td>0.000135</td>\n      <td>0.705051</td>\n      <td>...</td>\n      <td>NaN</td>\n      <td>NaN</td>\n      <td>NaN</td>\n      <td>NaN</td>\n      <td>NaN</td>\n      <td>NaN</td>\n      <td>NaN</td>\n      <td>NaN</td>\n      <td>NaN</td>\n      <td>NaN</td>\n    </tr>\n    <tr>\n      <th>...</th>\n      <td>...</td>\n      <td>...</td>\n      <td>...</td>\n      <td>...</td>\n      <td>...</td>\n      <td>...</td>\n      <td>...</td>\n      <td>...</td>\n      <td>...</td>\n      <td>...</td>\n      <td>...</td>\n      <td>...</td>\n      <td>...</td>\n      <td>...</td>\n      <td>...</td>\n      <td>...</td>\n      <td>...</td>\n      <td>...</td>\n      <td>...</td>\n      <td>...</td>\n      <td>...</td>\n    </tr>\n    <tr>\n      <th>198</th>\n      <td>automl-dm--dpp0-1-d87b16d1f5004797a81aaf66a511...</td>\n      <td>automl-dm--dpp0-1-d87b16d1f5004797a81aaf66a511...</td>\n      <td>arn:aws:sagemaker:sa-east-1:388295382521:train...</td>\n      <td>737474898029.dkr.ecr.sa-east-1.amazonaws.com/s...</td>\n      <td>1.0</td>\n      <td>ml.m5.4xlarge</td>\n      <td>50.0</td>\n      <td>NaN</td>\n      <td>NaN</td>\n      <td>NaN</td>\n      <td>...</td>\n      <td>application/x-code</td>\n      <td>s3://sagemaker-sa-east-1-388295382521/sagemake...</td>\n      <td>NaN</td>\n      <td>NaN</td>\n      <td>NaN</td>\n      <td>NaN</td>\n      <td>NaN</td>\n      <td>NaN</td>\n      <td>NaN</td>\n      <td>NaN</td>\n    </tr>\n    <tr>\n      <th>199</th>\n      <td>automl-dm--dpp1-1-21349515f9e94be3bf7d6952b28c...</td>\n      <td>automl-dm--dpp1-1-21349515f9e94be3bf7d6952b28c...</td>\n      <td>arn:aws:sagemaker:sa-east-1:388295382521:train...</td>\n      <td>737474898029.dkr.ecr.sa-east-1.amazonaws.com/s...</td>\n      <td>1.0</td>\n      <td>ml.m5.4xlarge</td>\n      <td>50.0</td>\n      <td>NaN</td>\n      <td>NaN</td>\n      <td>NaN</td>\n      <td>...</td>\n      <td>application/x-code</td>\n      <td>s3://sagemaker-sa-east-1-388295382521/sagemake...</td>\n      <td>NaN</td>\n      <td>NaN</td>\n      <td>NaN</td>\n      <td>NaN</td>\n      <td>NaN</td>\n      <td>NaN</td>\n      <td>NaN</td>\n      <td>NaN</td>\n    </tr>\n    <tr>\n      <th>200</th>\n      <td>automl-dm--dpp4-1-ec8888b84a764309ba6ac9827544...</td>\n      <td>automl-dm--dpp4-1-ec8888b84a764309ba6ac9827544...</td>\n      <td>arn:aws:sagemaker:sa-east-1:388295382521:train...</td>\n      <td>737474898029.dkr.ecr.sa-east-1.amazonaws.com/s...</td>\n      <td>1.0</td>\n      <td>ml.m5.4xlarge</td>\n      <td>50.0</td>\n      <td>NaN</td>\n      <td>NaN</td>\n      <td>NaN</td>\n      <td>...</td>\n      <td>application/x-code</td>\n      <td>s3://sagemaker-sa-east-1-388295382521/sagemake...</td>\n      <td>NaN</td>\n      <td>NaN</td>\n      <td>NaN</td>\n      <td>NaN</td>\n      <td>NaN</td>\n      <td>NaN</td>\n      <td>NaN</td>\n      <td>NaN</td>\n    </tr>\n    <tr>\n      <th>201</th>\n      <td>automl-dm--dpp3-1-9a89d1e5ea564ff0aac45047b264...</td>\n      <td>automl-dm--dpp3-1-9a89d1e5ea564ff0aac45047b264...</td>\n      <td>arn:aws:sagemaker:sa-east-1:388295382521:train...</td>\n      <td>737474898029.dkr.ecr.sa-east-1.amazonaws.com/s...</td>\n      <td>1.0</td>\n      <td>ml.m5.4xlarge</td>\n      <td>50.0</td>\n      <td>NaN</td>\n      <td>NaN</td>\n      <td>NaN</td>\n      <td>...</td>\n      <td>application/x-code</td>\n      <td>s3://sagemaker-sa-east-1-388295382521/sagemake...</td>\n      <td>NaN</td>\n      <td>NaN</td>\n      <td>NaN</td>\n      <td>NaN</td>\n      <td>NaN</td>\n      <td>NaN</td>\n      <td>NaN</td>\n      <td>NaN</td>\n    </tr>\n    <tr>\n      <th>202</th>\n      <td>db-1-188cf0670bb043a3b792abc741ed4a8fca902093f...</td>\n      <td>db-1-188cf0670bb043a3b792abc741ed4a8fca902093f...</td>\n      <td>arn:aws:sagemaker:sa-east-1:388295382521:proce...</td>\n      <td>NaN</td>\n      <td>1.0</td>\n      <td>ml.m5.2xlarge</td>\n      <td>250.0</td>\n      <td>NaN</td>\n      <td>NaN</td>\n      <td>NaN</td>\n      <td>...</td>\n      <td>NaN</td>\n      <td>NaN</td>\n      <td>Pipe</td>\n      <td>automl-dm-03-02-26-28</td>\n      <td>classification</td>\n      <td>5</td>\n      <td>NaN</td>\n      <td>011351689081.dkr.ecr.sa-east-1.amazonaws.com/d...</td>\n      <td>NaN</td>\n      <td>s3://sagemaker-sa-east-1-388295382521/sagemake...</td>\n    </tr>\n  </tbody>\n</table>\n<p>203 rows × 145 columns</p>\n</div>"
     },
     "metadata": {},
     "execution_count": 12
    }
   ],
   "source": [
    "from sagemaker.analytics import ExperimentAnalytics\n",
    "\n",
    "analytics = ExperimentAnalytics(\n",
    "    sagemaker_session=sess, \n",
    "    experiment_name=auto_ml_job_name+'-aws-auto-ml-job'\n",
    ")\n",
    "\n",
    "df = analytics.dataframe()\n",
    "df"
   ]
  },
  {
   "cell_type": "code",
   "execution_count": 13,
   "metadata": {},
   "outputs": [
    {
     "output_type": "stream",
     "name": "stdout",
     "text": [
      "1  tuning-job-1-7ca4ae7007ee478598-072-0158faa6  0.9694499969482422\n2  tuning-job-1-7ca4ae7007ee478598-180-3cf1f6d0  0.967710018157959\n3  tuning-job-1-7ca4ae7007ee478598-051-0a34ad38  0.967710018157959\n4  tuning-job-1-7ca4ae7007ee478598-063-fba3a84f  0.9659600257873535\n5  tuning-job-1-7ca4ae7007ee478598-183-eadebadd  0.9650899767875671\n6  tuning-job-1-7ca4ae7007ee478598-171-ee1dbe23  0.9650899767875671\n7  tuning-job-1-7ca4ae7007ee478598-152-db0ecff9  0.9650899767875671\n8  tuning-job-1-7ca4ae7007ee478598-066-21be16ff  0.9650899767875671\n9  tuning-job-1-7ca4ae7007ee478598-036-04f49e34  0.9650899767875671\n10  tuning-job-1-7ca4ae7007ee478598-032-9b9945bc  0.9642199873924255\n"
     ]
    }
   ],
   "source": [
    "candidates = sm.list_candidates_for_auto_ml_job(AutoMLJobName=auto_ml_job_name, \n",
    "                                                SortBy='FinalObjectiveMetricValue')['Candidates']\n",
    "index = 1\n",
    "for candidate in candidates:\n",
    "  print (str(index) + \"  \" \n",
    "         + candidate['CandidateName'] + \"  \" \n",
    "         + str(candidate['FinalAutoMLJobObjectiveMetric']['Value']))\n",
    "  index += 1"
   ]
  },
  {
   "cell_type": "code",
   "execution_count": 14,
   "metadata": {},
   "outputs": [
    {
     "output_type": "stream",
     "name": "stdout",
     "text": [
      "Candidate name: tuning-job-1-7ca4ae7007ee478598-072-0158faa6\n"
     ]
    }
   ],
   "source": [
    "best_candidate = sm.describe_auto_ml_job(AutoMLJobName=auto_ml_job_name)['BestCandidate']\n",
    "best_candidate_name = best_candidate['CandidateName']\n",
    "\n",
    "print(\"Candidate name: \" + best_candidate_name)"
   ]
  },
  {
   "cell_type": "code",
   "execution_count": 15,
   "metadata": {},
   "outputs": [
    {
     "output_type": "stream",
     "name": "stdout",
     "text": [
      "737474898029.dkr.ecr.sa-east-1.amazonaws.com/sagemaker-sklearn-automl:0.2-1-cpu-py3\ns3://sagemaker-sa-east-1-388295382521/sagemaker/automl-dm/output/automl-dm-03-02-26-28/data-processor-models/automl-dm--dpp4-1-ec8888b84a764309ba6ac9827544b6d378b9f97de6944/output/model.tar.gz\n-\n737474898029.dkr.ecr.sa-east-1.amazonaws.com/sagemaker-xgboost:1.0-1-cpu-py3\ns3://sagemaker-sa-east-1-388295382521/sagemaker/automl-dm/output/automl-dm-03-02-26-28/tuning/automl-dm--dpp4-xgb/tuning-job-1-7ca4ae7007ee478598-072-0158faa6/output/model.tar.gz\n-\n737474898029.dkr.ecr.sa-east-1.amazonaws.com/sagemaker-sklearn-automl:0.2-1-cpu-py3\ns3://sagemaker-sa-east-1-388295382521/sagemaker/automl-dm/output/automl-dm-03-02-26-28/data-processor-models/automl-dm--dpp4-1-ec8888b84a764309ba6ac9827544b6d378b9f97de6944/output/model.tar.gz\n-\n"
     ]
    }
   ],
   "source": [
    "for container in best_candidate['InferenceContainers']:\n",
    "    print(container['Image'])\n",
    "    print(container['ModelDataUrl'])\n",
    "    print('-')"
   ]
  },
  {
   "cell_type": "code",
   "execution_count": 20,
   "metadata": {
    "tags": []
   },
   "outputs": [],
   "source": [
    "# model_name = 'automl-dm-model-' + timestamp_suffix\n",
    "\n",
    "# model_arn = sm.create_model(Containers=best_candidate['InferenceContainers'],\n",
    "#                             ModelName=model_name,\n",
    "#                             ExecutionRoleArn=role)\n",
    "\n",
    "# print('Model ARN: ', model_arn['ModelArn'])\n",
    "\n",
    "############## use this to make iferences\n",
    "from sagemaker import AutoML\n",
    "model_name = 'finished-automl-dm-model-' + timestamp_suffix\n",
    "aml = AutoML.attach(auto_ml_job_name='automl-dm-03-02-26-28')\n",
    "aml_best_model = aml.create_model(name=model_name,\n",
    "                                  candidate=best_candidate,\n",
    "                                  inference_response_keys=[\"predicted_label\", \"probability\", \"labels\", \"probabilities\"])\n",
    "\n",
    "aml_transformer = aml_best_model.transformer(accept='text/csv',\n",
    "                                            assemble_with='Line',\n",
    "                                            instance_type='ml.m5.xlarge',\n",
    "                                            instance_count=1,)\n",
    "\n",
    "\n"
   ]
  },
  {
   "cell_type": "code",
   "execution_count": 21,
   "metadata": {},
   "outputs": [
    {
     "output_type": "stream",
     "name": "stdout",
     "text": [
      "s3://jsimon-capture-saeast1/finished-automl-dm-model-03-03-29-48/\n"
     ]
    }
   ],
   "source": [
    "# Don't forget to update the bucket! It must be in the same region as SageMaker\n",
    "s3_capture_path = 's3://jsimon-capture-saeast1/' + model_name + '/'\n",
    "\n",
    "print(s3_capture_path)"
   ]
  },
  {
   "cell_type": "code",
   "execution_count": 22,
   "metadata": {},
   "outputs": [],
   "source": [
    "data_capture_configuration = {\n",
    "    \"EnableCapture\": True, # flag turns data capture on and off\n",
    "    \"DestinationS3Uri\": s3_capture_path, # s3 location where captured data is saved\n",
    "    \"InitialSamplingPercentage\": 100, # sampling rate to capture data. max is 100%\n",
    "    \"CaptureOptions\": [\n",
    "       {\n",
    "            \"CaptureMode\": \"Output\" # The type of capture this option enables. Values can be: [Output/Input]\n",
    "        },\n",
    "        {\n",
    "            \"CaptureMode\": \"Input\" # The type of capture this option enables. Values can be: [Output/Input]\n",
    "        }\n",
    "    ],\n",
    "    \"CaptureContentTypeHeader\": {\n",
    "       \"CsvContentTypes\": [\"text/csv\"], # headers which should signal to decode the payload into CSV format \n",
    "       \"JsonContentTypes\": [\"application/json\"] # headers which should signal to decode the payload into JSON format \n",
    "    }\n",
    "}"
   ]
  },
  {
   "cell_type": "code",
   "execution_count": null,
   "metadata": {},
   "outputs": [],
   "source": [
    "# ############## use this to make iferences\n",
    "# from sagemaker import AutoML\n",
    "\n",
    "# aml = AutoML.attach(auto_ml_job_name='automl-dm-30-02-15-18')\n",
    "# aml_best_model = aml.create_model(name='automl-dm-model-' + timestamp_suffix,\n",
    "#                                   candidate=best_candidate,\n",
    "#                                   inference_response_keys=[\"predicted_label\",'probabilities', 'probability' 'labels'])\n",
    "\n",
    "# aml_transformer = aml_best_model.transformer(accept='text/csv',\n",
    "#                                             assemble_with='Line',\n",
    "#                                             instance_type='ml.m5.xlarge',\n",
    "#                                             instance_count=1,)"
   ]
  },
  {
   "cell_type": "code",
   "execution_count": 23,
   "metadata": {},
   "outputs": [
    {
     "output_type": "stream",
     "name": "stdout",
     "text": [
      "Endpoint configuration name: automl-dm-epc-03-03-31-06\n"
     ]
    }
   ],
   "source": [
    "# Endpoint configuration name\n",
    "timestamp_suffix = strftime('%d-%H-%M-%S', gmtime())\n",
    "epc_name = 'automl-dm-epc-' + timestamp_suffix\n",
    "print('Endpoint configuration name:', epc_name)\n",
    "\n",
    "ep_config = sm.create_endpoint_config(EndpointConfigName = epc_name,\n",
    "                                      ProductionVariants=[{'InstanceType':'ml.m4.xlarge',\n",
    "                                                           'InitialInstanceCount':1,\n",
    "                                                           'ModelName':model_name,\n",
    "                                                           'VariantName': 'AllTraffic'}],\n",
    "                                      DataCaptureConfig = data_capture_configuration)"
   ]
  },
  {
   "cell_type": "code",
   "execution_count": 24,
   "metadata": {},
   "outputs": [
    {
     "output_type": "stream",
     "name": "stdout",
     "text": [
      "Endpoint name: automl-dm-ep-03-03-31-06\n"
     ]
    }
   ],
   "source": [
    "# Endpoint name\n",
    "ep_name = 'automl-dm-ep-' + timestamp_suffix\n",
    "variant_name = 'automl-dm-variant-' + timestamp_suffix\n",
    "print('Endpoint name:', ep_name)\n",
    "# variant_name = \"automl-dm-variant-29-22-04-24\"\n",
    "# ep_name = \"automl-dm-ep-29-22-04-24\"\n",
    "\n",
    "create_endpoint_response = sm.create_endpoint(EndpointName=ep_name,\n",
    "                                              EndpointConfigName=epc_name)"
   ]
  },
  {
   "cell_type": "code",
   "execution_count": 25,
   "metadata": {},
   "outputs": [
    {
     "output_type": "stream",
     "name": "stdout",
     "text": [
      "Endpoint ARN   : arn:aws:sagemaker:sa-east-1:388295382521:endpoint/automl-dm-ep-03-03-31-06\nEndpoint status: InService\nCPU times: user 168 ms, sys: 1.81 ms, total: 170 ms\nWall time: 8min 32s\n"
     ]
    }
   ],
   "source": [
    "%%time\n",
    "sm.get_waiter('endpoint_in_service').wait(EndpointName=ep_name)\n",
    "\n",
    "resp = sm.describe_endpoint(EndpointName=ep_name)\n",
    "status = resp['EndpointStatus']\n",
    "\n",
    "print(\"Endpoint ARN   : \" + resp['EndpointArn'])\n",
    "print(\"Endpoint status: \" + status)"
   ]
  },
  {
   "cell_type": "code",
   "execution_count": 26,
   "metadata": {},
   "outputs": [
    {
     "output_type": "error",
     "ename": "ModelError",
     "evalue": "An error occurred (ModelError) when calling the InvokeEndpoint operation: Received client error (400) from container-2 with message \"Unable to evaluate payload provided: Feature size of recordio-protobuf inference data 772 is not consistent with feature size of trained model 771.\". See https://sa-east-1.console.aws.amazon.com/cloudwatch/home?region=sa-east-1#logEventViewer:group=/aws/sagemaker/Endpoints/automl-dm-ep-03-03-31-06 in account 388295382521 for more information.",
     "traceback": [
      "\u001b[0;31m---------------------------------------------------------------------------\u001b[0m",
      "\u001b[0;31mModelError\u001b[0m                                Traceback (most recent call last)",
      "\u001b[0;32m<ipython-input-26-90d2410ce833>\u001b[0m in \u001b[0;36m<module>\u001b[0;34m\u001b[0m\n\u001b[1;32m      9\u001b[0m         \u001b[0ml\u001b[0m \u001b[0;34m=\u001b[0m \u001b[0;34m','\u001b[0m\u001b[0;34m.\u001b[0m\u001b[0mjoin\u001b[0m\u001b[0;34m(\u001b[0m\u001b[0ml\u001b[0m\u001b[0;34m)\u001b[0m   \u001b[0;31m# Rebuild CSV line without label\u001b[0m\u001b[0;34m\u001b[0m\u001b[0;34m\u001b[0m\u001b[0m\n\u001b[1;32m     10\u001b[0m \u001b[0;34m\u001b[0m\u001b[0m\n\u001b[0;32m---> 11\u001b[0;31m         \u001b[0mresponse\u001b[0m \u001b[0;34m=\u001b[0m \u001b[0msm_rt\u001b[0m\u001b[0;34m.\u001b[0m\u001b[0minvoke_endpoint\u001b[0m\u001b[0;34m(\u001b[0m\u001b[0mEndpointName\u001b[0m\u001b[0;34m=\u001b[0m\u001b[0mep_name\u001b[0m\u001b[0;34m,\u001b[0m \u001b[0mContentType\u001b[0m\u001b[0;34m=\u001b[0m\u001b[0;34m'text/csv'\u001b[0m\u001b[0;34m,\u001b[0m \u001b[0mAccept\u001b[0m\u001b[0;34m=\u001b[0m\u001b[0;34m'text/csv'\u001b[0m\u001b[0;34m,\u001b[0m \u001b[0mBody\u001b[0m\u001b[0;34m=\u001b[0m\u001b[0ml\u001b[0m\u001b[0;34m)\u001b[0m\u001b[0;34m\u001b[0m\u001b[0;34m\u001b[0m\u001b[0m\n\u001b[0m\u001b[1;32m     12\u001b[0m \u001b[0;34m\u001b[0m\u001b[0m\n\u001b[1;32m     13\u001b[0m         \u001b[0mresponse\u001b[0m \u001b[0;34m=\u001b[0m \u001b[0mresponse\u001b[0m\u001b[0;34m[\u001b[0m\u001b[0;34m'Body'\u001b[0m\u001b[0;34m]\u001b[0m\u001b[0;34m.\u001b[0m\u001b[0mread\u001b[0m\u001b[0;34m(\u001b[0m\u001b[0;34m)\u001b[0m\u001b[0;34m.\u001b[0m\u001b[0mdecode\u001b[0m\u001b[0;34m(\u001b[0m\u001b[0;34m\"utf-8\"\u001b[0m\u001b[0;34m)\u001b[0m\u001b[0;34m\u001b[0m\u001b[0;34m\u001b[0m\u001b[0m\n",
      "\u001b[0;32m~/miniconda3/lib/python3.8/site-packages/botocore/client.py\u001b[0m in \u001b[0;36m_api_call\u001b[0;34m(self, *args, **kwargs)\u001b[0m\n\u001b[1;32m    355\u001b[0m                     \"%s() only accepts keyword arguments.\" % py_operation_name)\n\u001b[1;32m    356\u001b[0m             \u001b[0;31m# The \"self\" in this scope is referring to the BaseClient.\u001b[0m\u001b[0;34m\u001b[0m\u001b[0;34m\u001b[0m\u001b[0;34m\u001b[0m\u001b[0m\n\u001b[0;32m--> 357\u001b[0;31m             \u001b[0;32mreturn\u001b[0m \u001b[0mself\u001b[0m\u001b[0;34m.\u001b[0m\u001b[0m_make_api_call\u001b[0m\u001b[0;34m(\u001b[0m\u001b[0moperation_name\u001b[0m\u001b[0;34m,\u001b[0m \u001b[0mkwargs\u001b[0m\u001b[0;34m)\u001b[0m\u001b[0;34m\u001b[0m\u001b[0;34m\u001b[0m\u001b[0m\n\u001b[0m\u001b[1;32m    358\u001b[0m \u001b[0;34m\u001b[0m\u001b[0m\n\u001b[1;32m    359\u001b[0m         \u001b[0m_api_call\u001b[0m\u001b[0;34m.\u001b[0m\u001b[0m__name__\u001b[0m \u001b[0;34m=\u001b[0m \u001b[0mstr\u001b[0m\u001b[0;34m(\u001b[0m\u001b[0mpy_operation_name\u001b[0m\u001b[0;34m)\u001b[0m\u001b[0;34m\u001b[0m\u001b[0;34m\u001b[0m\u001b[0m\n",
      "\u001b[0;32m~/miniconda3/lib/python3.8/site-packages/botocore/client.py\u001b[0m in \u001b[0;36m_make_api_call\u001b[0;34m(self, operation_name, api_params)\u001b[0m\n\u001b[1;32m    674\u001b[0m             \u001b[0merror_code\u001b[0m \u001b[0;34m=\u001b[0m \u001b[0mparsed_response\u001b[0m\u001b[0;34m.\u001b[0m\u001b[0mget\u001b[0m\u001b[0;34m(\u001b[0m\u001b[0;34m\"Error\"\u001b[0m\u001b[0;34m,\u001b[0m \u001b[0;34m{\u001b[0m\u001b[0;34m}\u001b[0m\u001b[0;34m)\u001b[0m\u001b[0;34m.\u001b[0m\u001b[0mget\u001b[0m\u001b[0;34m(\u001b[0m\u001b[0;34m\"Code\"\u001b[0m\u001b[0;34m)\u001b[0m\u001b[0;34m\u001b[0m\u001b[0;34m\u001b[0m\u001b[0m\n\u001b[1;32m    675\u001b[0m             \u001b[0merror_class\u001b[0m \u001b[0;34m=\u001b[0m \u001b[0mself\u001b[0m\u001b[0;34m.\u001b[0m\u001b[0mexceptions\u001b[0m\u001b[0;34m.\u001b[0m\u001b[0mfrom_code\u001b[0m\u001b[0;34m(\u001b[0m\u001b[0merror_code\u001b[0m\u001b[0;34m)\u001b[0m\u001b[0;34m\u001b[0m\u001b[0;34m\u001b[0m\u001b[0m\n\u001b[0;32m--> 676\u001b[0;31m             \u001b[0;32mraise\u001b[0m \u001b[0merror_class\u001b[0m\u001b[0;34m(\u001b[0m\u001b[0mparsed_response\u001b[0m\u001b[0;34m,\u001b[0m \u001b[0moperation_name\u001b[0m\u001b[0;34m)\u001b[0m\u001b[0;34m\u001b[0m\u001b[0;34m\u001b[0m\u001b[0m\n\u001b[0m\u001b[1;32m    677\u001b[0m         \u001b[0;32melse\u001b[0m\u001b[0;34m:\u001b[0m\u001b[0;34m\u001b[0m\u001b[0;34m\u001b[0m\u001b[0m\n\u001b[1;32m    678\u001b[0m             \u001b[0;32mreturn\u001b[0m \u001b[0mparsed_response\u001b[0m\u001b[0;34m\u001b[0m\u001b[0;34m\u001b[0m\u001b[0m\n",
      "\u001b[0;31mModelError\u001b[0m: An error occurred (ModelError) when calling the InvokeEndpoint operation: Received client error (400) from container-2 with message \"Unable to evaluate payload provided: Feature size of recordio-protobuf inference data 772 is not consistent with feature size of trained model 771.\". See https://sa-east-1.console.aws.amazon.com/cloudwatch/home?region=sa-east-1#logEventViewer:group=/aws/sagemaker/Endpoints/automl-dm-ep-03-03-31-06 in account 388295382521 for more information."
     ]
    }
   ],
   "source": [
    "tp = tn = fp = fn = count = 0\n",
    "\n",
    "with open('automl-test.csv') as f:\n",
    "    lines = f.readlines()\n",
    "    for l in lines[1:]:   # Skip header\n",
    "        l = l.split(',')  # Split CSV line into features\n",
    "        label = l[-1]     # Store 'yes'/'no' label\n",
    "        l = l[:-1]        # Remove label\n",
    "        l = ','.join(l)   # Rebuild CSV line without label\n",
    "                \n",
    "        response = sm_rt.invoke_endpoint(EndpointName=ep_name, ContentType='text/csv', Accept='text/csv', Body=l)\n",
    "\n",
    "        response = response['Body'].read().decode(\"utf-8\")\n",
    "        #print (\"label %s response %s\" %(label,response))\n",
    "\n",
    "        if 'TRUE' in label:\n",
    "            # Sample is positive\n",
    "            if 'TRUE' in response:\n",
    "                # True positive\n",
    "                tp=tp+1\n",
    "            else:\n",
    "                # False negative\n",
    "                fn=fn+1\n",
    "        else:\n",
    "            # Sample is negative\n",
    "            if 'FAKE' in response:\n",
    "                # True negative\n",
    "                tn=tn+1\n",
    "            else:\n",
    "                # False positive\n",
    "                fp=fp+1\n",
    "        count = count+1\n",
    "        if (count % 100 == 0):   \n",
    "            sys.stdout.write(str(count)+' ')\n",
    "            \n",
    "print (\"Done\")"
   ]
  },
  {
   "cell_type": "code",
   "execution_count": null,
   "metadata": {},
   "outputs": [],
   "source": [
    "print (\"%d %d\" % (tn, fp))\n",
    "print (\"%d %d\" % (fn, tp))\n",
    "\n",
    "accuracy  = (tp+tn)/(tp+tn+fp+fn)\n",
    "precision = tp/(tp+fp)\n",
    "recall    = tn/(tp+fn)\n",
    "f1        = (2*precision*recall)/(precision+recall)\n",
    "\n",
    "print (\"Accuracy: %.4f, Precision: %.4f, Recall: %.4f, F1: %.4f\" % (accuracy, precision, recall, f1))"
   ]
  },
  {
   "cell_type": "code",
   "execution_count": null,
   "metadata": {},
   "outputs": [],
   "source": [
    "%%sh -s \"$s3_capture_path\"\n",
    "\n",
    "aws s3 ls --recursive $1"
   ]
  },
  {
   "cell_type": "code",
   "execution_count": null,
   "metadata": {},
   "outputs": [],
   "source": [
    "############## use this to make iferences\n",
    "from sagemaker import AutoML\n",
    "\n",
    "aml = AutoML.attach(auto_ml_job_name='automl-dm-30-02-15-18')\n",
    "aml_best_model = aml.create_model(name='automl-dm-model-' + timestamp_suffix,\n",
    "                                  candidate=None,\n",
    "                                  inference_response_keys=[\"predicted_label\",'probabilities', 'probability' 'labels'])\n",
    "\n",
    "aml_transformer = aml_best_model.transformer(accept='text/csv',\n",
    "                                            assemble_with='Line',\n",
    "                                            instance_type='ml.m5.xlarge',\n",
    "                                            instance_count=1,)"
   ]
  }
 ]
}