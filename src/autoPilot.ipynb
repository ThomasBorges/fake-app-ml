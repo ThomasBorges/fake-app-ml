{
 "metadata": {
  "language_info": {
   "codemirror_mode": {
    "name": "ipython",
    "version": 3
   },
   "file_extension": ".py",
   "mimetype": "text/x-python",
   "name": "python",
   "nbconvert_exporter": "python",
   "pygments_lexer": "ipython3",
   "version": "3.8.3-final"
  },
  "orig_nbformat": 2,
  "kernelspec": {
   "name": "Python 3.8.3 64-bit ('base': conda)",
   "display_name": "Python 3.8.3 64-bit ('base': conda)",
   "metadata": {
    "interpreter": {
     "hash": "8b12ac8dcdf553299d976986e0136e9ae96d633d605886e116064ae7fcc22f61"
    }
   }
  }
 },
 "nbformat": 4,
 "nbformat_minor": 2,
 "cells": [
  {
   "cell_type": "code",
   "execution_count": 1,
   "metadata": {},
   "outputs": [
    {
     "output_type": "stream",
     "name": "stdout",
     "text": [
      "2.16.1\n"
     ]
    }
   ],
   "source": [
    "import pandas as pd\n",
    "import numpy as np\n",
    "import boto3\n",
    "import sagemaker\n",
    "import os, sys\n",
    "\n",
    "print (sagemaker.__version__)\n",
    "\n",
    "sess   = sagemaker.Session()\n",
    "bucket = sess.default_bucket()                     \n",
    "prefix = 'sagemaker/automl-dm'\n",
    "region = boto3.Session().region_name\n",
    "\n",
    "# Role when working on a notebook instance\n",
    "role = \"arn:aws:iam::388295382521:role/service-role/AmazonSageMaker-ExecutionRole-20201029T114207\"\n",
    "\n",
    "sm = boto3.Session().client(service_name='sagemaker',region_name=region)\n",
    "sm_rt = boto3.Session().client('runtime.sagemaker', region_name=region)"
   ]
  },
  {
   "cell_type": "code",
   "execution_count": 2,
   "metadata": {},
   "outputs": [],
   "source": [
    "data = pd.read_csv('../finalCSVforTraining2.csv', sep=',')\n",
    "data.set_index('indice', inplace=True)\n",
    "pd.set_option('display.max_columns', 500)     # Make sure we can see all of the columns\n",
    "pd.set_option('display.max_rows', 50)         # Keep the output on one page\n",
    "data[:10] # Show the first 10 lines\n",
    "\n",
    "data.shape # (number of lines, number of columns)\n",
    "\n",
    "train_data, test_data, _ = np.split(data.sample(frac=1, random_state=123), \n",
    "                                                  [int(0.80 * len(data)), int(len(data))])  \n",
    "\n",
    "# Save to CSV files\n",
    "train_data.to_csv('automl-train.csv', index=False, header=True, sep=',') # Need to keep column names\n",
    "test_data.to_csv('automl-test.csv', index=False, header=True, sep=',')"
   ]
  },
  {
   "cell_type": "code",
   "execution_count": null,
   "metadata": {},
   "outputs": [],
   "source": [
    "sess.upload_data(path=\"automl-test.csv\", key_prefix=prefix + \"/input\")"
   ]
  },
  {
   "cell_type": "code",
   "execution_count": 3,
   "metadata": {},
   "outputs": [],
   "source": [
    "job_config = {\n",
    "    'CompletionCriteria': {\n",
    "      'MaxRuntimePerTrainingJobInSeconds': 600,\n",
    "      # 'MaxCandidates': 10,\n",
    "      'MaxAutoMLJobRuntimeInSeconds': 3600\n",
    "    },\n",
    "}\n",
    "\n",
    "input_data_config = [{\n",
    "      'DataSource': {\n",
    "        'S3DataSource': {\n",
    "          'S3DataType': 'S3Prefix',\n",
    "          'S3Uri': 's3://{}/{}/input'.format(bucket,prefix)\n",
    "        }\n",
    "      },\n",
    "      'TargetAttributeName': 'classification'  # the column we want to predict\n",
    "    }\n",
    "]\n",
    "\n",
    "output_data_config = { 'S3OutputPath': 's3://{}/{}/output'.format(bucket,prefix) }\n",
    "\n",
    "# Optional parameters\n",
    "\n",
    "problem_type = 'BinaryClassification'\n",
    "\n",
    "job_objective = { 'MetricName': 'F1' }"
   ]
  },
  {
   "cell_type": "code",
   "execution_count": 4,
   "metadata": {},
   "outputs": [
    {
     "output_type": "stream",
     "name": "stdout",
     "text": [
      "AutoMLJobName: automl-dm-30-02-15-18\n"
     ]
    },
    {
     "output_type": "execute_result",
     "data": {
      "text/plain": [
       "{'AutoMLJobArn': 'arn:aws:sagemaker:sa-east-1:388295382521:automl-job/automl-dm-30-02-15-18',\n",
       " 'ResponseMetadata': {'RequestId': '76e9f94e-81d8-48fc-9dc0-7796f0ef260e',\n",
       "  'HTTPStatusCode': 200,\n",
       "  'HTTPHeaders': {'x-amzn-requestid': '76e9f94e-81d8-48fc-9dc0-7796f0ef260e',\n",
       "   'content-type': 'application/x-amz-json-1.1',\n",
       "   'content-length': '92',\n",
       "   'date': 'Fri, 30 Oct 2020 02:15:20 GMT'},\n",
       "  'RetryAttempts': 0}}"
      ]
     },
     "metadata": {},
     "execution_count": 4
    }
   ],
   "source": [
    "from time import gmtime, strftime, sleep\n",
    "timestamp_suffix = strftime('%d-%H-%M-%S', gmtime())\n",
    "\n",
    "auto_ml_job_name = 'automl-dm-' + timestamp_suffix\n",
    "print('AutoMLJobName: ' + auto_ml_job_name)\n",
    "\n",
    "sm.create_auto_ml_job(AutoMLJobName=auto_ml_job_name,\n",
    "                      InputDataConfig=input_data_config,\n",
    "                      OutputDataConfig=output_data_config,\n",
    "                      AutoMLJobConfig=job_config,\n",
    "                      AutoMLJobObjective=job_objective,\n",
    "                      ProblemType=problem_type,\n",
    "                      RoleArn=role)"
   ]
  },
  {
   "cell_type": "code",
   "execution_count": null,
   "metadata": {},
   "outputs": [],
   "source": [
    "#auto_ml_job_name = 'automl-dm-29-17-21-27'"
   ]
  },
  {
   "cell_type": "code",
   "execution_count": 5,
   "metadata": {},
   "outputs": [
    {
     "output_type": "stream",
     "name": "stdout",
     "text": [
      "InProgress\n",
      "InProgress - AnalyzingData\n",
      "InProgress - AnalyzingData\n",
      "InProgress - AnalyzingData\n",
      "InProgress - AnalyzingData\n",
      "InProgress - AnalyzingData\n",
      "InProgress - AnalyzingData\n",
      "InProgress - AnalyzingData\n",
      "InProgress - AnalyzingData\n",
      "InProgress - AnalyzingData\n",
      "InProgress - FeatureEngineering\n",
      "InProgress - FeatureEngineering\n",
      "InProgress - FeatureEngineering\n",
      "InProgress - FeatureEngineering\n",
      "InProgress - FeatureEngineering\n",
      "InProgress - FeatureEngineering\n",
      "InProgress - FeatureEngineering\n",
      "InProgress - FeatureEngineering\n",
      "InProgress - ModelTuning\n",
      "InProgress - ModelTuning\n",
      "InProgress - ModelTuning\n",
      "InProgress - ModelTuning\n",
      "InProgress - ModelTuning\n",
      "InProgress - ModelTuning\n",
      "InProgress - ModelTuning\n",
      "InProgress - ModelTuning\n",
      "InProgress - ModelTuning\n",
      "InProgress - ModelTuning\n",
      "InProgress - ModelTuning\n",
      "InProgress - ModelTuning\n",
      "InProgress - ModelTuning\n",
      "InProgress - ModelTuning\n",
      "InProgress - ModelTuning\n",
      "InProgress - ModelTuning\n",
      "InProgress - ModelTuning\n",
      "InProgress - ModelTuning\n",
      "InProgress - ModelTuning\n",
      "InProgress - ModelTuning\n",
      "InProgress - ModelTuning\n",
      "InProgress - ModelTuning\n",
      "InProgress - ModelTuning\n",
      "InProgress - ModelTuning\n",
      "InProgress - ModelTuning\n",
      "InProgress - ModelTuning\n",
      "InProgress - ModelTuning\n",
      "InProgress - ModelTuning\n",
      "InProgress - ModelTuning\n",
      "InProgress - ModelTuning\n",
      "InProgress - ModelTuning\n",
      "InProgress - ModelTuning\n",
      "InProgress - ModelTuning\n",
      "InProgress - ModelTuning\n",
      "InProgress - ModelTuning\n",
      "InProgress - ModelTuning\n",
      "InProgress - ModelTuning\n",
      "InProgress - ModelTuning\n",
      "InProgress - ModelTuning\n",
      "InProgress - ModelTuning\n",
      "InProgress - ModelTuning\n",
      "InProgress - ModelTuning\n",
      "Completed - MaxAutoMLJobRuntimeReached\n",
      "CPU times: user 654 ms, sys: 36 ms, total: 690 ms\n",
      "Wall time: 1h 17s\n"
     ]
    }
   ],
   "source": [
    "%%time\n",
    "job_run_status = sm.describe_auto_ml_job(AutoMLJobName=auto_ml_job_name)['AutoMLJobStatus']\n",
    "\n",
    "print(job_run_status)\n",
    "\n",
    "while job_run_status not in ('Failed', 'Completed', 'Stopped'):\n",
    "    describe_response = sm.describe_auto_ml_job(AutoMLJobName=auto_ml_job_name)\n",
    "    job_run_status = describe_response['AutoMLJobStatus']\n",
    "    \n",
    "    print (describe_response['AutoMLJobStatus'] + \" - \" + describe_response['AutoMLJobSecondaryStatus'])\n",
    "    sleep(60)"
   ]
  },
  {
   "cell_type": "code",
   "execution_count": 6,
   "metadata": {},
   "outputs": [
    {
     "output_type": "stream",
     "name": "stdout",
     "text": [
      "s3://sagemaker-sa-east-1-388295382521/sagemaker/automl-dm/output/automl-dm-30-02-15-18/sagemaker-automl-candidates/pr-1-8cccb9c53b2a4336b9dca924f6f2bfc7811d25cf2f314d68b034fd9562/notebooks/SageMakerAutopilotCandidateDefinitionNotebook.ipynb\ns3://sagemaker-sa-east-1-388295382521/sagemaker/automl-dm/output/automl-dm-30-02-15-18/sagemaker-automl-candidates/pr-1-8cccb9c53b2a4336b9dca924f6f2bfc7811d25cf2f314d68b034fd9562/notebooks/SageMakerAutopilotDataExplorationNotebook.ipynb\n"
     ]
    }
   ],
   "source": [
    "job = sm.describe_auto_ml_job(AutoMLJobName=auto_ml_job_name)\n",
    "job_candidate_notebook = job['AutoMLJobArtifacts']['CandidateDefinitionNotebookLocation']\n",
    "job_data_notebook = job['AutoMLJobArtifacts']['DataExplorationNotebookLocation']\n",
    "\n",
    "print(job_candidate_notebook)\n",
    "print(job_data_notebook)"
   ]
  },
  {
   "cell_type": "code",
   "execution_count": 7,
   "metadata": {},
   "outputs": [
    {
     "output_type": "stream",
     "name": "stdout",
     "text": [
      "download: s3://sagemaker-sa-east-1-388295382521/sagemaker/automl-dm/output/automl-dm-30-02-15-18/sagemaker-automl-candidates/pr-1-8cccb9c53b2a4336b9dca924f6f2bfc7811d25cf2f314d68b034fd9562/notebooks/SageMakerAutopilotCandidateDefinitionNotebook.ipynb to ./SageMakerAutopilotCandidateDefinitionNotebook.ipynb\ndownload: s3://sagemaker-sa-east-1-388295382521/sagemaker/automl-dm/output/automl-dm-30-02-15-18/sagemaker-automl-candidates/pr-1-8cccb9c53b2a4336b9dca924f6f2bfc7811d25cf2f314d68b034fd9562/notebooks/SageMakerAutopilotDataExplorationNotebook.ipynb to ./SageMakerAutopilotDataExplorationNotebook.ipynb\n"
     ]
    }
   ],
   "source": [
    "%%sh -s $job_candidate_notebook $job_data_notebook\n",
    "aws s3 cp $1 .\n",
    "aws s3 cp $2 ."
   ]
  },
  {
   "cell_type": "code",
   "execution_count": 8,
   "metadata": {},
   "outputs": [
    {
     "output_type": "execute_result",
     "data": {
      "text/plain": [
       "st-1-388295382521/sagemake...   \n",
       "4    s3://sagemaker-sa-east-1-388295382521/sagemake...   \n",
       "..                                                 ...   \n",
       "207                                                NaN   \n",
       "208                                                NaN   \n",
       "209                                                NaN   \n",
       "210                                                NaN   \n",
       "211                                                NaN   \n",
       "\n",
       "     SageMaker.ModelArtifact - MediaType  \\\n",
       "0                                    NaN   \n",
       "1                                    NaN   \n",
       "2                                    NaN   \n",
       "3                                    NaN   \n",
       "4                                    NaN   \n",
       "..                                   ...   \n",
       "207                                  NaN   \n",
       "208                                  NaN   \n",
       "209                                  NaN   \n",
       "210                                  NaN   \n",
       "211                                  NaN   \n",
       "\n",
       "                       SageMaker.ModelArtifact - Value  \\\n",
       "0    s3://sagemaker-sa-east-1-388295382521/sagemake...   \n",
       "1    s3://sagemaker-sa-east-1-388295382521/sagemake...   \n",
       "2    s3://sagemaker-sa-east-1-388295382521/sagemake...   \n",
       "3    s3://sagemaker-sa-east-1-388295382521/sagemake...   \n",
       "4                                                  NaN   \n",
       "..                                                 ...   \n",
       "207  s3://sagemaker-sa-east-1-388295382521/sagemake...   \n",
       "208  s3://sagemaker-sa-east-1-388295382521/sagemake...   \n",
       "209  s3://sagemaker-sa-east-1-388295382521/sagemake...   \n",
       "210  s3://sagemaker-sa-east-1-388295382521/sagemake...   \n",
       "211                                                NaN   \n",
       "\n",
       "                                                Trials  \\\n",
       "0    [tuning-job-1-bff8cbf333be4ba5b0-200-955c2299-...   \n",
       "1    [tuning-job-1-bff8cbf333be4ba5b0-187-397572c7-...   \n",
       "2    [tuning-job-1-bff8cbf333be4ba5b0-198-db3fea39-...   \n",
       "3    [tuning-job-1-bff8cbf333be4ba5b0-199-f293a221-...   \n",
       "4    [tuning-job-1-bff8cbf333be4ba5b0-201-522d845e-...   \n",
       "..                                                 ...   \n",
       "207  [tuning-job-1-bff8cbf333be4ba5b0-154-06c19070-...   \n",
       "208  [tuning-job-1-bff8cbf333be4ba5b0-149-7c5fe21f-...   \n",
       "209  [tuning-job-1-bff8cbf333be4ba5b0-201-522d845e-...   \n",
       "210  [tuning-job-1-bff8cbf333be4ba5b0-168-191dd2d5-...   \n",
       "211  [tuning-job-1-bff8cbf333be4ba5b0-201-522d845e-...   \n",
       "\n",
       "                                           Experiments     alpha  \\\n",
       "0              [automl-dm-30-02-15-18-aws-auto-ml-job]       NaN   \n",
       "1              [automl-dm-30-02-15-18-aws-auto-ml-job]  0.001639   \n",
       "2              [automl-dm-30-02-15-18-aws-auto-ml-job]  1.187551   \n",
       "3              [automl-dm-30-02-15-18-aws-auto-ml-job]  0.000002   \n",
       "4              [automl-dm-30-02-15-18-aws-auto-ml-job]  0.000005   \n",
       "..                                                 ...       ...   \n",
       "207  [automl-dm-30-02-15-18-aws-auto-ml-job, automl...       NaN   \n",
       "208  [automl-dm-30-02-15-18-aws-auto-ml-job, automl...       NaN   \n",
       "209  [automl-dm-30-02-15-18-aws-auto-ml-job, automl...       NaN   \n",
       "210  [automl-dm-30-02-15-18-aws-auto-ml-job, automl...       NaN   \n",
       "211  [automl-dm-30-02-15-18-aws-auto-ml-job, automl...       NaN   \n",
       "\n",
       "     colsample_bytree       eta     gamma    lambda  max_depth  \\\n",
       "0                 NaN       NaN       NaN       NaN        NaN   \n",
       "1            0.507428  0.113060  0.001266  1.520203        8.0   \n",
       "2            0.360922  0.137289  0.003404  1.741124        3.0   \n",
       "3            0.452326  0.145116  0.315749  0.552549        4.0   \n",
       "4            0.321018  0.163821  0.002083  0.603872        5.0   \n",
       "..                ...       ...       ...       ...        ...   \n",
       "207               NaN       NaN       NaN       NaN        NaN   \n",
       "208               NaN       NaN       NaN       NaN        NaN   \n",
       "209               NaN       NaN       NaN       NaN        NaN   \n",
       "210               NaN       NaN       NaN       NaN        NaN   \n",
       "211               NaN       NaN       NaN       NaN        NaN   \n",
       "\n",
       "     min_child_weight  num_round        objective save_model_on_termination  \\\n",
       "0                 NaN        NaN              NaN                       NaN   \n",
       "1            2.814295      530.0  binary:logistic                      true   \n",
       "2            8.632918     1006.0  binary:logistic                      true   \n",
       "3            0.437663      706.0  binary:logistic                      true   \n",
       "4            1.762287      764.0  binary:logistic                      true   \n",
       "..                ...        ...              ...                       ...   \n",
       "207               NaN        NaN              NaN                       NaN   \n",
       "208               NaN        NaN              NaN                       NaN   \n",
       "209               NaN        NaN              NaN                       NaN   \n",
       "210               NaN        NaN              NaN                       NaN   \n",
       "211               NaN        NaN              NaN                       NaN   \n",
       "\n",
       "     subsample  train:f1 - Min  train:f1 - Max  train:f1 - Avg  \\\n",
       "0          NaN             NaN             NaN             NaN   \n",
       "1     0.987174         0.00000         0.00000        0.000000   \n",
       "2     0.907727         0.93392         0.95044        0.946733   \n",
       "3     0.852731         0.00000         0.00000        0.000000   \n",
       "4     0.959084             NaN             NaN             NaN   \n",
       "..         ...             ...             ...             ...   \n",
       "207        NaN             NaN             NaN             NaN   \n",
       "208        NaN             NaN             NaN             NaN   \n",
       "209        NaN             NaN             NaN             NaN   \n",
       "210        NaN             NaN             NaN             NaN   \n",
       "211        NaN             NaN             NaN             NaN   \n",
       "\n",
       "     train:f1 - StdDev  train:f1 - Last  train:f1 - Count  \\\n",
       "0                  NaN              NaN               NaN   \n",
       "1             0.000000          1.00000               0.0   \n",
       "2             0.004119          0.95044              14.0   \n",
       "3             0.000000          1.00000               0.0   \n",
       "4                  NaN              NaN               NaN   \n",
       "..                 ...              ...               ...   \n",
       "207                NaN              NaN               NaN   \n",
       "208                NaN              NaN               NaN   \n",
       "209                NaN              NaN               NaN   \n",
       "210                NaN              NaN               NaN   \n",
       "211                NaN              NaN               NaN   \n",
       "\n",
       "     validation:error - Min  validation:error - Max  validation:error - Avg  \\\n",
       "0                       NaN                     NaN                     NaN   \n",
       "1                   0.00000                 0.00000                0.000000   \n",
       "2                   0.04625                 0.06196                0.049738   \n",
       "3                   0.00000                 0.00000                0.000000   \n",
       "4                       NaN                     NaN                     NaN   \n",
       "..                      ...                     ...                     ...   \n",
       "207                     NaN                     NaN                     NaN   \n",
       "208                     NaN                     NaN                     NaN   \n",
       "209                     NaN                     NaN                     NaN   \n",
       "210                     NaN                     NaN                     NaN   \n",
       "211                     NaN                     NaN                     NaN   \n",
       "\n",
       "     validation:error - StdDev  validation:error - Last  \\\n",
       "0                          NaN                      NaN   \n",
       "1                     0.000000                  0.03927   \n",
       "2                     0.003874                  0.04625   \n",
       "3                     0.000000                  0.03490   \n",
       "4                          NaN                      NaN   \n",
       "..                         ...                      ...   \n",
       "207                        NaN                      NaN   \n",
       "208                        NaN                      NaN   \n",
       "209                        NaN                      NaN   \n",
       "210                        NaN                      NaN   \n",
       "211                        NaN                      NaN   \n",
       "\n",
       "     validation:error - Count  validation:f1 - Min  validation:f1 - Max  \\\n",
       "0                         NaN                  NaN                  NaN   \n",
       "1                         0.0              0.00000              0.00000   \n",
       "2                        14.0              0.93804              0.95375   \n",
       "3                         0.0              0.00000              0.00000   \n",
       "4                         NaN                  NaN                  NaN   \n",
       "..                        ...                  ...                  ...   \n",
       "207                       NaN                  NaN                  NaN   \n",
       "208                       NaN                  NaN                  NaN   \n",
       "209                       NaN                  NaN                  NaN   \n",
       "210                       NaN                  NaN                  NaN   \n",
       "211                       NaN                  NaN                  NaN   \n",
       "\n",
       "     validation:f1 - Avg  validation:f1 - StdDev  validation:f1 - Last  \\\n",
       "0                    NaN                     NaN                   NaN   \n",
       "1               0.000000                0.000000               0.96073   \n",
       "2               0.950262                0.003874               0.95375   \n",
       "3               0.000000                0.000000               0.96509   \n",
       "4                    NaN                     NaN                   NaN   \n",
       "..                   ...                     ...                   ...   \n",
       "207                  NaN                     NaN                   NaN   \n",
       "208                  NaN                     NaN                   NaN   \n",
       "209                  NaN                     NaN                   NaN   \n",
       "210                  NaN                     NaN                   NaN   \n",
       "211                  NaN                     NaN                   NaN   \n",
       "\n",
       "     validation:f1 - Count  train:error - Min  train:error - Max  \\\n",
       "0                      NaN                NaN                NaN   \n",
       "1                      0.0            0.00000            0.00000   \n",
       "2                     14.0            0.04955            0.06607   \n",
       "3                      0.0            0.00000            0.00000   \n",
       "4                      NaN                NaN                NaN   \n",
       "..                     ...                ...                ...   \n",
       "207                    NaN                NaN                NaN   \n",
       "208                    NaN                NaN                NaN   \n",
       "209                    NaN                NaN                NaN   \n",
       "210                    NaN                NaN                NaN   \n",
       "211                    NaN                NaN                NaN   \n",
       "\n",
       "     train:error - Avg  train:error - StdDev  train:error - Last  \\\n",
       "0                  NaN                   NaN                 NaN   \n",
       "1             0.000000              0.000000             0.00000   \n",
       "2             0.053264              0.004118             0.04955   \n",
       "3             0.000000              0.000000             0.00000   \n",
       "4                  NaN                   NaN                 NaN   \n",
       "..                 ...                   ...                 ...   \n",
       "207                NaN                   NaN                 NaN   \n",
       "208                NaN                   NaN                 NaN   \n",
       "209                NaN                   NaN                 NaN   \n",
       "210                NaN                   NaN                 NaN   \n",
       "211                NaN                   NaN                 NaN   \n",
       "\n",
       "     train:error - Count SageMaker.ModelName SageMaker.ModelPrimary.DataUrl  \\\n",
       "0                    NaN                 NaN                            NaN   \n",
       "1                    0.0                 NaN                            NaN   \n",
       "2                   14.0                 NaN                            NaN   \n",
       "3                    0.0                 NaN                            NaN   \n",
       "4                    NaN                 NaN                            NaN   \n",
       "..                   ...                 ...                            ...   \n",
       "207                  NaN                 NaN                            NaN   \n",
       "208                  NaN                 NaN                            NaN   \n",
       "209                  NaN                 NaN                            NaN   \n",
       "210                  NaN                 NaN                            NaN   \n",
       "211                  NaN                 NaN                            NaN   \n",
       "\n",
       "    SageMaker.ModelPrimary.Image SageMaker.TransformInput - MediaType  \\\n",
       "0                            NaN                                  NaN   \n",
       "1                            NaN                                  NaN   \n",
       "2                            NaN                                  NaN   \n",
       "3                            NaN                                  NaN   \n",
       "4                            NaN                                  NaN   \n",
       "..                           ...                                  ...   \n",
       "207                          NaN                                  NaN   \n",
       "208                          NaN                                  NaN   \n",
       "209                          NaN                                  NaN   \n",
       "210                          NaN                                  NaN   \n",
       "211                          NaN                                  NaN   \n",
       "\n",
       "    SageMaker.TransformInput - Value  SageMaker.TransformOutput - MediaType  \\\n",
       "0                                NaN                                    NaN   \n",
       "1                                NaN                                    NaN   \n",
       "2                                NaN                                    NaN   \n",
       "3                                NaN                                    NaN   \n",
       "4                                NaN                                    NaN   \n",
       "..                               ...                                    ...   \n",
       "207                              NaN                                    NaN   \n",
       "208                              NaN                                    NaN   \n",
       "209                              NaN                                    NaN   \n",
       "210                              NaN                                    NaN   \n",
       "211                              NaN                                    NaN   \n",
       "\n",
       "    SageMaker.TransformOutput - Value                processor_module  \\\n",
       "0                                 NaN                             NaN   \n",
       "1                                 NaN                             NaN   \n",
       "2                                 NaN                             NaN   \n",
       "3                                 NaN                             NaN   \n",
       "4                                 NaN                             NaN   \n",
       "..                                ...                             ...   \n",
       "207                               NaN  candidate_data_processors.dpp1   \n",
       "208                               NaN  candidate_data_processors.dpp4   \n",
       "209                               NaN  candidate_data_processors.dpp3   \n",
       "210                               NaN  candidate_data_processors.dpp0   \n",
       "211                               NaN                             NaN   \n",
       "\n",
       "                     sagemaker_program sagemaker_submit_directory  \\\n",
       "0                                  NaN                        NaN   \n",
       "1                                  NaN                        NaN   \n",
       "2                                  NaN                        NaN   \n",
       "3                                  NaN                        NaN   \n",
       "4                                  NaN                        NaN   \n",
       "..                                 ...                        ...   \n",
       "207  candidate_data_processors.trainer    /opt/ml/input/data/code   \n",
       "208  candidate_data_processors.trainer    /opt/ml/input/data/code   \n",
       "209  candidate_data_processors.trainer    /opt/ml/input/data/code   \n",
       "210  candidate_data_processors.trainer    /opt/ml/input/data/code   \n",
       "211                                NaN                        NaN   \n",
       "\n",
       "       code - MediaType                                       code - Value  \\\n",
       "0                   NaN                                                NaN   \n",
       "1                   NaN                                                NaN   \n",
       "2                   NaN                                                NaN   \n",
       "3                   NaN                                                NaN   \n",
       "4                   NaN                                                NaN   \n",
       "..                  ...                                                ...   \n",
       "207  application/x-code  s3://sagemaker-sa-east-1-388295382521/sagemake...   \n",
       "208  application/x-code  s3://sagemaker-sa-east-1-388295382521/sagemake...   \n",
       "209  application/x-code  s3://sagemaker-sa-east-1-388295382521/sagemake...   \n",
       "210  application/x-code  s3://sagemaker-sa-east-1-388295382521/sagemake...   \n",
       "211                 NaN                                                NaN   \n",
       "\n",
       "    input_channel_mode               job_name       label_col  \\\n",
       "0                  NaN                    NaN             NaN   \n",
       "1                  NaN                    NaN             NaN   \n",
       "2                  NaN                    NaN             NaN   \n",
       "3                  NaN                    NaN             NaN   \n",
       "4                  NaN                    NaN             NaN   \n",
       "..                 ...                    ...             ...   \n",
       "207                NaN                    NaN             NaN   \n",
       "208                NaN                    NaN             NaN   \n",
       "209                NaN                    NaN             NaN   \n",
       "210                NaN                    NaN             NaN   \n",
       "211               Pipe  automl-dm-30-02-15-18  classification   \n",
       "\n",
       "    max_dataset_size  SageMaker.ImageUri - MediaType  \\\n",
       "0                NaN                             NaN   \n",
       "1                NaN                             NaN   \n",
       "2                NaN                             NaN   \n",
       "3                NaN                             NaN   \n",
       "4                NaN                             NaN   \n",
       "..               ...                             ...   \n",
       "207              NaN                             NaN   \n",
       "208              NaN                             NaN   \n",
       "209              NaN                             NaN   \n",
       "210              NaN                             NaN   \n",
       "211                5                             NaN   \n",
       "\n",
       "                            SageMaker.ImageUri - Value  ds - MediaType  \\\n",
       "0                                                  NaN             NaN   \n",
       "1                                                  NaN             NaN   \n",
       "2                                                  NaN             NaN   \n",
       "3                                                  NaN             NaN   \n",
       "4                                                  NaN             NaN   \n",
       "..                                                 ...             ...   \n",
       "207                                                NaN             NaN   \n",
       "208                                                NaN             NaN   \n",
       "209                                                NaN             NaN   \n",
       "210                                                NaN             NaN   \n",
       "211  011351689081.dkr.ecr.sa-east-1.amazonaws.com/d...             NaN   \n",
       "\n",
       "                                            ds - Value  \n",
       "0                                                  NaN  \n",
       "1                                                  NaN  \n",
       "2                                                  NaN  \n",
       "3                                                  NaN  \n",
       "4                                                  NaN  \n",
       "..                                                 ...  \n",
       "207                                                NaN  \n",
       "208                                                NaN  \n",
       "209                                                NaN  \n",
       "210                                                NaN  \n",
       "211  s3://sagemaker-sa-east-1-388295382521/sagemake...  \n",
       "\n",
       "[212 rows x 145 columns]"
      ],
      "text/html": "<div>\n<style scoped>\n    .dataframe tbody tr th:only-of-type {\n        vertical-align: middle;\n    }\n\n    .dataframe tbody tr th {\n        vertical-align: top;\n    }\n\n    .dataframe thead th {\n        text-align: right;\n    }\n</style>\n<table border=\"1\" class=\"dataframe\">\n  <thead>\n    <tr style=\"text-align: right;\">\n      <th></th>\n      <th>TrialComponentName</th>\n      <th>DisplayName</th>\n      <th>SourceArn</th>\n      <th>SageMaker.ImageUri</th>\n      <th>SageMaker.InstanceCount</th>\n      <th>SageMaker.InstanceType</th>\n      <th>SageMaker.VolumeSizeInGB</th>\n      <th>_tuning_objective_metric</th>\n      <th>binary_classifier_model_selection_criteria</th>\n      <th>l1</th>\n      <th>learning_rate</th>\n      <th>loss</th>\n      <th>mini_batch_size</th>\n      <th>num_models</th>\n      <th>predictor_type</th>\n      <th>wd</th>\n      <th>ObjectiveMetric - Min</th>\n      <th>ObjectiveMetric - Max</th>\n      <th>ObjectiveMetric - Avg</th>\n      <th>ObjectiveMetric - StdDev</th>\n      <th>ObjectiveMetric - Last</th>\n      <th>ObjectiveMetric - Count</th>\n      <th>validation:objective_loss - Min</th>\n      <th>validation:objective_loss - Max</th>\n      <th>validation:objective_loss - Avg</th>\n      <th>validation:objective_loss - StdDev</th>\n      <th>validation:objective_loss - Last</th>\n      <th>validation:objective_loss - Count</th>\n      <th>train:progress - Min</th>\n      <th>train:progress - Max</th>\n      <th>train:progress - Avg</th>\n      <th>train:progress - StdDev</th>\n      <th>train:progress - Last</th>\n      <th>train:progress - Count</th>\n      <th>train:throughput - Min</th>\n      <th>train:throughput - Max</th>\n      <th>train:throughput - Avg</th>\n      <th>train:throughput - StdDev</th>\n      <th>train:throughput - Last</th>\n      <th>train:throughput - Count</th>\n      <th>validation:recall - Min</th>\n      <th>validation:recall - Max</th>\n      <th>validation:recall - Avg</th>\n      <th>validation:recall - StdDev</th>\n      <th>validation:recall - Last</th>\n      <th>validation:recall - Count</th>\n      <th>validation:binary_classification_accuracy - Min</th>\n      <th>validation:binary_classification_accuracy - Max</th>\n      <th>validation:binary_classification_accuracy - Avg</th>\n      <th>validation:binary_classification_accuracy - StdDev</th>\n      <th>validation:binary_classification_accuracy - Last</th>\n      <th>validation:binary_classification_accuracy - Count</th>\n      <th>validation:roc_auc_score - Min</th>\n      <th>validation:roc_auc_score - Max</th>\n      <th>validation:roc_auc_score - Avg</th>\n      <th>validation:roc_auc_score - StdDev</th>\n      <th>validation:roc_auc_score - Last</th>\n      <th>validation:roc_auc_score - Count</th>\n      <th>train:objective_loss - Min</th>\n      <th>train:objective_loss - Max</th>\n      <th>train:objective_loss - Avg</th>\n      <th>train:objective_loss - StdDev</th>\n      <th>train:objective_loss - Last</th>\n      <th>train:objective_loss - Count</th>\n      <th>validation:objective_loss:final - Min</th>\n      <th>validation:objective_loss:final - Max</th>\n      <th>validation:objective_loss:final - Avg</th>\n      <th>validation:objective_loss:final - StdDev</th>\n      <th>validation:objective_loss:final - Last</th>\n      <th>validation:objective_loss:final - Count</th>\n      <th>validation:binary_f_beta - Min</th>\n      <th>validation:binary_f_beta - Max</th>\n      <th>validation:binary_f_beta - Avg</th>\n      <th>validation:binary_f_beta - StdDev</th>\n      <th>validation:binary_f_beta - Last</th>\n      <th>validation:binary_f_beta - Count</th>\n      <th>validation:precision - Min</th>\n      <th>validation:precision - Max</th>\n      <th>validation:precision - Avg</th>\n      <th>validation:precision - StdDev</th>\n      <th>validation:precision - Last</th>\n      <th>validation:precision - Count</th>\n      <th>train - MediaType</th>\n      <th>train - Value</th>\n      <th>validation - MediaType</th>\n      <th>validation - Value</th>\n      <th>SageMaker.ModelArtifact - MediaType</th>\n      <th>SageMaker.ModelArtifact - Value</th>\n      <th>Trials</th>\n      <th>Experiments</th>\n      <th>alpha</th>\n      <th>colsample_bytree</th>\n      <th>eta</th>\n      <th>gamma</th>\n      <th>lambda</th>\n      <th>max_depth</th>\n      <th>min_child_weight</th>\n      <th>num_round</th>\n      <th>objective</th>\n      <th>save_model_on_termination</th>\n      <th>subsample</th>\n      <th>train:f1 - Min</th>\n      <th>train:f1 - Max</th>\n      <th>train:f1 - Avg</th>\n      <th>train:f1 - StdDev</th>\n      <th>train:f1 - Last</th>\n      <th>train:f1 - Count</th>\n      <th>validation:error - Min</th>\n      <th>validation:error - Max</th>\n      <th>validation:error - Avg</th>\n      <th>validation:error - StdDev</th>\n      <th>validation:error - Last</th>\n      <th>validation:error - Count</th>\n      <th>validation:f1 - Min</th>\n      <th>validation:f1 - Max</th>\n      <th>validation:f1 - Avg</th>\n      <th>validation:f1 - StdDev</th>\n      <th>validation:f1 - Last</th>\n      <th>validation:f1 - Count</th>\n      <th>train:error - Min</th>\n      <th>train:error - Max</th>\n      <th>train:error - Avg</th>\n      <th>train:error - StdDev</th>\n      <th>train:error - Last</th>\n      <th>train:error - Count</th>\n      <th>SageMaker.ModelName</th>\n      <th>SageMaker.ModelPrimary.DataUrl</th>\n      <th>SageMaker.ModelPrimary.Image</th>\n      <th>SageMaker.TransformInput - MediaType</th>\n      <th>SageMaker.TransformInput - Value</th>\n      <th>SageMaker.TransformOutput - MediaType</th>\n      <th>SageMaker.TransformOutput - Value</th>\n      <th>processor_module</th>\n      <th>sagemaker_program</th>\n      <th>sagemaker_submit_directory</th>\n      <th>code - MediaType</th>\n      <th>code - Value</th>\n      <th>input_channel_mode</th>\n      <th>job_name</th>\n      <th>label_col</th>\n      <th>max_dataset_size</th>\n      <th>SageMaker.ImageUri - MediaType</th>\n      <th>SageMaker.ImageUri - Value</th>\n      <th>ds - MediaType</th>\n      <th>ds - Value</th>\n    </tr>\n  </thead>\n  <tbody>\n    <tr>\n      <th>0</th>\n      <td>tuning-job-1-bff8cbf333be4ba5b0-200-955c2299-a...</td>\n      <td>tuning-job-1-bff8cbf333be4ba5b0-200-955c2299-a...</td>\n      <td>arn:aws:sagemaker:sa-east-1:388295382521:train...</td>\n      <td>855470959533.dkr.ecr.sa-east-1.amazonaws.com/l...</td>\n      <td>1.0</td>\n      <td>ml.m5.4xlarge</td>\n      <td>50.0</td>\n      <td>validation:binary_f_beta</td>\n      <td>loss_function</td>\n      <td>1.706526e-07</td>\n      <td>0.706089</td>\n      <td>logistic</td>\n      <td>800.0</td>\n      <td>1.0</td>\n      <td>binary_classifier</td>\n      <td>1.241696e-07</td>\n      <td>0.00000</td>\n      <td>0.00000</td>\n      <td>0.000000</td>\n      <td>0.000000</td>\n      <td>0.955095</td>\n      <td>0.0</td>\n      <td>0.190488</td>\n      <td>0.956565</td>\n      <td>0.354207</td>\n      <td>0.219253</td>\n      <td>0.190488</td>\n      <td>14.0</td>\n      <td>6.0</td>\n      <td>86.0</td>\n      <td>46.307692</td>\n      <td>25.978788</td>\n      <td>86.0</td>\n      <td>13.0</td>\n      <td>11114.6842</td>\n      <td>25279.369632</td>\n      <td>19524.729076</td>\n      <td>4480.871977</td>\n      <td>24174.435699</td>\n      <td>13.0</td>\n      <td>0.0</td>\n      <td>0.0</td>\n      <td>0.0</td>\n      <td>0.0</td>\n      <td>0.965096</td>\n      <td>0.0</td>\n      <td>0.0</td>\n      <td>0.0</td>\n      <td>0.0</td>\n      <td>0.0</td>\n      <td>0.954625</td>\n      <td>0.0</td>\n      <td>0.0</td>\n      <td>0.0</td>\n      <td>0.0</td>\n      <td>0.0</td>\n      <td>0.986944</td>\n      <td>0.0</td>\n      <td>0.153967</td>\n      <td>1.531418</td>\n      <td>0.375935</td>\n      <td>0.381687</td>\n      <td>0.153967</td>\n      <td>14.0</td>\n      <td>0.0</td>\n      <td>0.0</td>\n      <td>0.0</td>\n      <td>0.0</td>\n      <td>0.179662</td>\n      <td>0.0</td>\n      <td>0.0</td>\n      <td>0.0</td>\n      <td>0.0</td>\n      <td>0.0</td>\n      <td>0.955095</td>\n      <td>0.0</td>\n      <td>0.0</td>\n      <td>0.0</td>\n      <td>0.0</td>\n      <td>0.0</td>\n      <td>0.945299</td>\n      <td>0.0</td>\n      <td>application/x-recordio-protobuf</td>\n      <td>s3://sagemaker-sa-east-1-388295382521/sagemake...</td>\n      <td>application/x-recordio-protobuf</td>\n      <td>s3://sagemaker-sa-east-1-388295382521/sagemake...</td>\n      <td>NaN</td>\n      <td>s3://sagemaker-sa-east-1-388295382521/sagemake...</td>\n      <td>[tuning-job-1-bff8cbf333be4ba5b0-200-955c2299-...</td>\n      <td>[automl-dm-30-02-15-18-aws-auto-ml-job]</td>\n      <td>NaN</td>\n      <td>NaN</td>\n      <td>NaN</td>\n      <td>NaN</td>\n      <td>NaN</td>\n      <td>NaN</td>\n      <td>NaN</td>\n      <td>NaN</td>\n      <td>NaN</td>\n      <td>NaN</td>\n      <td>NaN</td>\n      <td>NaN</td>\n      <td>NaN</td>\n      <td>NaN</td>\n      <td>NaN</td>\n      <td>NaN</td>\n      <td>NaN</td>\n      <td>NaN</td>\n      <td>NaN</td>\n      <td>NaN</td>\n      <td>NaN</td>\n      <td>NaN</td>\n      <td>NaN</td>\n      <td>NaN</td>\n      <td>NaN</td>\n      <td>NaN</td>\n      <td>NaN</td>\n      <td>NaN</td>\n      <td>NaN</td>\n      <td>NaN</td>\n      <td>NaN</td>\n      <td>NaN</td>\n      <td>NaN</td>\n      <td>NaN</td>\n      <td>NaN</td>\n      <td>NaN</td>\n      <td>NaN</td>\n      <td>NaN</td>\n      <td>NaN</td>\n      <td>NaN</td>\n      <td>NaN</td>\n      <td>NaN</td>\n      <td>NaN</td>\n      <td>NaN</td>\n      <td>NaN</td>\n      <td>NaN</td>\n      <td>NaN</td>\n      <td>NaN</td>\n      <td>NaN</td>\n      <td>NaN</td>\n      <td>NaN</td>\n      <td>NaN</td>\n      <td>NaN</td>\n      <td>NaN</td>\n      <td>NaN</td>\n    </tr>\n    <tr>\n      <th>1</th>\n      <td>tuning-job-1-bff8cbf333be4ba5b0-187-397572c7-a...</td>\n      <td>tuning-job-1-bff8cbf333be4ba5b0-187-397572c7-a...</td>\n      <td>arn:aws:sagemaker:sa-east-1:388295382521:train...</td>\n      <td>737474898029.dkr.ecr.sa-east-1.amazonaws.com/s...</td>\n      <td>1.0</td>\n      <td>ml.m5.4xlarge</td>\n      <td>50.0</td>\n      <td>validation:f1</td>\n      <td>NaN</td>\n      <td>NaN</td>\n      <td>NaN</td>\n      <td>NaN</td>\n      <td>NaN</td>\n      <td>NaN</td>\n      <td>NaN</td>\n      <td>NaN</td>\n      <td>0.00000</td>\n      <td>0.00000</td>\n      <td>0.000000</td>\n      <td>0.000000</td>\n      <td>0.960730</td>\n      <td>0.0</td>\n      <td>NaN</td>\n      <td>NaN</td>\n      <td>NaN</td>\n      <td>NaN</td>\n      <td>NaN</td>\n      <td>NaN</td>\n      <td>NaN</td>\n      <td>NaN</td>\n      <td>NaN</td>\n      <td>NaN</td>\n      <td>NaN</td>\n      <td>NaN</td>\n      <td>NaN</td>\n      <td>NaN</td>\n      <td>NaN</td>\n      <td>NaN</td>\n      <td>NaN</td>\n      <td>NaN</td>\n      <td>NaN</td>\n      <td>NaN</td>\n      <td>NaN</td>\n      <td>NaN</td>\n      <td>NaN</td>\n      <td>NaN</td>\n      <td>NaN</td>\n      <td>NaN</td>\n      <td>NaN</td>\n      <td>NaN</td>\n      <td>NaN</td>\n      <td>NaN</td>\n      <td>NaN</td>\n      <td>NaN</td>\n      <td>NaN</td>\n      <td>NaN</td>\n      <td>NaN</td>\n      <td>NaN</td>\n      <td>NaN</td>\n      <td>NaN</td>\n      <td>NaN</td>\n      <td>NaN</td>\n      <td>NaN</td>\n      <td>NaN</td>\n      <td>NaN</td>\n      <td>NaN</td>\n      <td>NaN</td>\n      <td>NaN</td>\n      <td>NaN</td>\n      <td>NaN</td>\n      <td>NaN</td>\n      <td>NaN</td>\n      <td>NaN</td>\n      <td>NaN</td>\n      <td>NaN</td>\n      <td>NaN</td>\n      <td>NaN</td>\n      <td>NaN</td>\n      <td>NaN</td>\n      <td>NaN</td>\n      <td>NaN</td>\n      <td>NaN</td>\n      <td>application/x-recordio-protobuf</td>\n      <td>s3://sagemaker-sa-east-1-388295382521/sagemake...</td>\n      <td>application/x-recordio-protobuf</td>\n      <td>s3://sagemaker-sa-east-1-388295382521/sagemake...</td>\n      <td>NaN</td>\n      <td>s3://sagemaker-sa-east-1-388295382521/sagemake...</td>\n      <td>[tuning-job-1-bff8cbf333be4ba5b0-187-397572c7-...</td>\n      <td>[automl-dm-30-02-15-18-aws-auto-ml-job]</td>\n      <td>0.001639</td>\n      <td>0.507428</td>\n      <td>0.113060</td>\n      <td>0.001266</td>\n      <td>1.520203</td>\n      <td>8.0</td>\n      <td>2.814295</td>\n      <td>530.0</td>\n      <td>binary:logistic</td>\n      <td>true</td>\n      <td>0.987174</td>\n      <td>0.00000</td>\n      <td>0.00000</td>\n      <td>0.000000</td>\n      <td>0.000000</td>\n      <td>1.00000</td>\n      <td>0.0</td>\n      <td>0.00000</td>\n      <td>0.00000</td>\n      <td>0.000000</td>\n      <td>0.000000</td>\n      <td>0.03927</td>\n      <td>0.0</td>\n      <td>0.00000</td>\n      <td>0.00000</td>\n      <td>0.000000</td>\n      <td>0.000000</td>\n      <td>0.96073</td>\n      <td>0.0</td>\n      <td>0.00000</td>\n      <td>0.00000</td>\n      <td>0.000000</td>\n      <td>0.000000</td>\n      <td>0.00000</td>\n      <td>0.0</td>\n      <td>NaN</td>\n      <td>NaN</td>\n      <td>NaN</td>\n      <td>NaN</td>\n      <td>NaN</td>\n      <td>NaN</td>\n      <td>NaN</td>\n      <td>NaN</td>\n      <td>NaN</td>\n      <td>NaN</td>\n      <td>NaN</td>\n      <td>NaN</td>\n      <td>NaN</td>\n      <td>NaN</td>\n      <td>NaN</td>\n      <td>NaN</td>\n      <td>NaN</td>\n      <td>NaN</td>\n      <td>NaN</td>\n      <td>NaN</td>\n    </tr>\n    <tr>\n      <th>2</th>\n      <td>tuning-job-1-bff8cbf333be4ba5b0-198-db3fea39-a...</td>\n      <td>tuning-job-1-bff8cbf333be4ba5b0-198-db3fea39-a...</td>\n      <td>arn:aws:sagemaker:sa-east-1:388295382521:train...</td>\n      <td>737474898029.dkr.ecr.sa-east-1.amazonaws.com/s...</td>\n      <td>1.0</td>\n      <td>ml.m5.4xlarge</td>\n      <td>50.0</td>\n      <td>validation:f1</td>\n      <td>NaN</td>\n      <td>NaN</td>\n      <td>NaN</td>\n      <td>NaN</td>\n      <td>NaN</td>\n      <td>NaN</td>\n      <td>NaN</td>\n      <td>NaN</td>\n      <td>0.93804</td>\n      <td>0.95375</td>\n      <td>0.950262</td>\n      <td>0.003874</td>\n      <td>0.953750</td>\n      <td>14.0</td>\n      <td>NaN</td>\n      <td>NaN</td>\n      <td>NaN</td>\n      <td>NaN</td>\n      <td>NaN</td>\n      <td>NaN</td>\n      <td>NaN</td>\n      <td>NaN</td>\n      <td>NaN</td>\n      <td>NaN</td>\n      <td>NaN</td>\n      <td>NaN</td>\n      <td>NaN</td>\n      <td>NaN</td>\n      <td>NaN</td>\n      <td>NaN</td>\n      <td>NaN</td>\n      <td>NaN</td>\n      <td>NaN</td>\n      <td>NaN</td>\n      <td>NaN</td>\n      <td>NaN</td>\n      <td>NaN</td>\n      <td>NaN</td>\n      <td>NaN</td>\n      <td>NaN</td>\n      <td>NaN</td>\n      <td>NaN</td>\n      <td>NaN</td>\n      <td>NaN</td>\n      <td>NaN</td>\n      <td>NaN</td>\n      <td>NaN</td>\n      <td>NaN</td>\n      <td>NaN</td>\n      <td>NaN</td>\n      <td>NaN</td>\n      <td>NaN</td>\n      <td>NaN</td>\n      <td>NaN</td>\n      <td>NaN</td>\n      <td>NaN</td>\n      <td>NaN</td>\n      <td>NaN</td>\n      <td>NaN</td>\n      <td>NaN</td>\n      <td>NaN</td>\n      <td>NaN</td>\n      <td>NaN</td>\n      <td>NaN</td>\n      <td>NaN</td>\n      <td>NaN</td>\n      <td>NaN</td>\n      <td>NaN</td>\n      <td>NaN</td>\n      <td>NaN</td>\n      <td>NaN</td>\n      <td>NaN</td>\n      <td>NaN</td>\n      <td>NaN</td>\n      <td>application/x-recordio-protobuf</td>\n      <td>s3://sagemaker-sa-east-1-388295382521/sagemake...</td>\n      <td>application/x-recordio-protobuf</td>\n      <td>s3://sagemaker-sa-east-1-388295382521/sagemake...</td>\n      <td>NaN</td>\n      <td>s3://sagemaker-sa-east-1-388295382521/sagemake...</td>\n      <td>[tuning-job-1-bff8cbf333be4ba5b0-198-db3fea39-...</td>\n      <td>[automl-dm-30-02-15-18-aws-auto-ml-job]</td>\n      <td>1.187551</td>\n      <td>0.360922</td>\n      <td>0.137289</td>\n      <td>0.003404</td>\n      <td>1.741124</td>\n      <td>3.0</td>\n      <td>8.632918</td>\n      <td>1006.0</td>\n      <td>binary:logistic</td>\n      <td>true</td>\n      <td>0.907727</td>\n      <td>0.93392</td>\n      <td>0.95044</td>\n      <td>0.946733</td>\n      <td>0.004119</td>\n      <td>0.95044</td>\n      <td>14.0</td>\n      <td>0.04625</td>\n      <td>0.06196</td>\n      <td>0.049738</td>\n      <td>0.003874</td>\n      <td>0.04625</td>\n      <td>14.0</td>\n      <td>0.93804</td>\n      <td>0.95375</td>\n      <td>0.950262</td>\n      <td>0.003874</td>\n      <td>0.95375</td>\n      <td>14.0</td>\n      <td>0.04955</td>\n      <td>0.06607</td>\n      <td>0.053264</td>\n      <td>0.004118</td>\n      <td>0.04955</td>\n      <td>14.0</td>\n      <td>NaN</td>\n      <td>NaN</td>\n      <td>NaN</td>\n      <td>NaN</td>\n      <td>NaN</td>\n      <td>NaN</td>\n      <td>NaN</td>\n      <td>NaN</td>\n      <td>NaN</td>\n      <td>NaN</td>\n      <td>NaN</td>\n      <td>NaN</td>\n      <td>NaN</td>\n      <td>NaN</td>\n      <td>NaN</td>\n      <td>NaN</td>\n      <td>NaN</td>\n      <td>NaN</td>\n      <td>NaN</td>\n      <td>NaN</td>\n    </tr>\n    <tr>\n      <th>3</th>\n      <td>tuning-job-1-bff8cbf333be4ba5b0-199-f293a221-a...</td>\n      <td>tuning-job-1-bff8cbf333be4ba5b0-199-f293a221-a...</td>\n      <td>arn:aws:sagemaker:sa-east-1:388295382521:train...</td>\n      <td>737474898029.dkr.ecr.sa-east-1.amazonaws.com/s...</td>\n      <td>1.0</td>\n      <td>ml.m5.4xlarge</td>\n      <td>50.0</td>\n      <td>validation:f1</td>\n      <td>NaN</td>\n      <td>NaN</td>\n      <td>NaN</td>\n      <td>NaN</td>\n      <td>NaN</td>\n      <td>NaN</td>\n      <td>NaN</td>\n      <td>NaN</td>\n      <td>0.00000</td>\n      <td>0.00000</td>\n      <td>0.000000</td>\n      <td>0.000000</td>\n      <td>0.965090</td>\n      <td>0.0</td>\n      <td>NaN</td>\n      <td>NaN</td>\n      <td>NaN</td>\n      <td>NaN</td>\n      <td>NaN</td>\n      <td>NaN</td>\n      <td>NaN</td>\n      <td>NaN</td>\n      <td>NaN</td>\n      <td>NaN</td>\n      <td>NaN</td>\n      <td>NaN</td>\n      <td>NaN</td>\n      <td>NaN</td>\n      <td>NaN</td>\n      <td>NaN</td>\n      <td>NaN</td>\n      <td>NaN</td>\n      <td>NaN</td>\n      <td>NaN</td>\n      <td>NaN</td>\n      <td>NaN</td>\n      <td>NaN</td>\n      <td>NaN</td>\n      <td>NaN</td>\n      <td>NaN</td>\n      <td>NaN</td>\n      <td>NaN</td>\n      <td>NaN</td>\n      <td>NaN</td>\n      <td>NaN</td>\n      <td>NaN</td>\n      <td>NaN</td>\n      <td>NaN</td>\n      <td>NaN</td>\n      <td>NaN</td>\n      <td>NaN</td>\n      <td>NaN</td>\n      <td>NaN</td>\n      <td>NaN</td>\n      <td>NaN</td>\n      <td>NaN</td>\n      <td>NaN</td>\n      <td>NaN</td>\n      <td>NaN</td>\n      <td>NaN</td>\n      <td>NaN</td>\n      <td>NaN</td>\n      <td>NaN</td>\n      <td>NaN</td>\n      <td>NaN</td>\n      <td>NaN</td>\n      <td>NaN</td>\n      <td>NaN</td>\n      <td>NaN</td>\n      <td>NaN</td>\n      <td>NaN</td>\n      <td>NaN</td>\n      <td>NaN</td>\n      <td>NaN</td>\n      <td>application/x-recordio-protobuf</td>\n      <td>s3://sagemaker-sa-east-1-388295382521/sagemake...</td>\n      <td>application/x-recordio-protobuf</td>\n      <td>s3://sagemaker-sa-east-1-388295382521/sagemake...</td>\n      <td>NaN</td>\n      <td>s3://sagemaker-sa-east-1-388295382521/sagemake...</td>\n      <td>[tuning-job-1-bff8cbf333be4ba5b0-199-f293a221-...</td>\n      <td>[automl-dm-30-02-15-18-aws-auto-ml-job]</td>\n      <td>0.000002</td>\n      <td>0.452326</td>\n      <td>0.145116</td>\n      <td>0.315749</td>\n      <td>0.552549</td>\n      <td>4.0</td>\n      <td>0.437663</td>\n      <td>706.0</td>\n      <td>binary:logistic</td>\n      <td>true</td>\n      <td>0.852731</td>\n      <td>0.00000</td>\n      <td>0.00000</td>\n      <td>0.000000</td>\n      <td>0.000000</td>\n      <td>1.00000</td>\n      <td>0.0</td>\n      <td>0.00000</td>\n      <td>0.00000</td>\n      <td>0.000000</td>\n      <td>0.000000</td>\n      <td>0.03490</td>\n      <td>0.0</td>\n      <td>0.00000</td>\n      <td>0.00000</td>\n      <td>0.000000</td>\n      <td>0.000000</td>\n      <td>0.96509</td>\n      <td>0.0</td>\n      <td>0.00000</td>\n      <td>0.00000</td>\n      <td>0.000000</td>\n      <td>0.000000</td>\n      <td>0.00000</td>\n      <td>0.0</td>\n      <td>NaN</td>\n      <td>NaN</td>\n      <td>NaN</td>\n      <td>NaN</td>\n      <td>NaN</td>\n      <td>NaN</td>\n      <td>NaN</td>\n      <td>NaN</td>\n      <td>NaN</td>\n      <td>NaN</td>\n      <td>NaN</td>\n      <td>NaN</td>\n      <td>NaN</td>\n      <td>NaN</td>\n      <td>NaN</td>\n      <td>NaN</td>\n      <td>NaN</td>\n      <td>NaN</td>\n      <td>NaN</td>\n      <td>NaN</td>\n    </tr>\n    <tr>\n      <th>4</th>\n      <td>tuning-job-1-bff8cbf333be4ba5b0-201-522d845e-a...</td>\n      <td>tuning-job-1-bff8cbf333be4ba5b0-201-522d845e-a...</td>\n      <td>arn:aws:sagemaker:sa-east-1:388295382521:train...</td>\n      <td>737474898029.dkr.ecr.sa-east-1.amazonaws.com/s...</td>\n      <td>1.0</td>\n      <td>ml.m5.4xlarge</td>\n      <td>50.0</td>\n      <td>validation:f1</td>\n      <td>NaN</td>\n      <td>NaN</td>\n      <td>NaN</td>\n      <td>NaN</td>\n      <td>NaN</td>\n      <td>NaN</td>\n      <td>NaN</td>\n      <td>NaN</td>\n      <td>NaN</td>\n      <td>NaN</td>\n      <td>NaN</td>\n      <td>NaN</td>\n      <td>NaN</td>\n      <td>NaN</td>\n      <td>NaN</td>\n      <td>NaN</td>\n      <td>NaN</td>\n      <td>NaN</td>\n      <td>NaN</td>\n      <td>NaN</td>\n      <td>NaN</td>\n      <td>NaN</td>\n      <td>NaN</td>\n      <td>NaN</td>\n      <td>NaN</td>\n      <td>NaN</td>\n      <td>NaN</td>\n      <td>NaN</td>\n      <td>NaN</td>\n      <td>NaN</td>\n      <td>NaN</td>\n      <td>NaN</td>\n      <td>NaN</td>\n      <td>NaN</td>\n      <td>NaN</td>\n      <td>NaN</td>\n      <td>NaN</td>\n      <td>NaN</td>\n      <td>NaN</td>\n      <td>NaN</td>\n      <td>NaN</td>\n      <td>NaN</td>\n      <td>NaN</td>\n      <td>NaN</td>\n      <td>NaN</td>\n      <td>NaN</td>\n      <td>NaN</td>\n      <td>NaN</td>\n      <td>NaN</td>\n      <td>NaN</td>\n      <td>NaN</td>\n      <td>NaN</td>\n      <td>NaN</td>\n      <td>NaN</td>\n      <td>NaN</td>\n      <td>NaN</td>\n      <td>NaN</td>\n      <td>NaN</td>\n      <td>NaN</td>\n      <td>NaN</td>\n      <td>NaN</td>\n      <td>NaN</td>\n      <td>NaN</td>\n      <td>NaN</td>\n      <td>NaN</td>\n      <td>NaN</td>\n      <td>NaN</td>\n      <td>NaN</td>\n      <td>NaN</td>\n      <td>NaN</td>\n      <td>NaN</td>\n      <td>NaN</td>\n      <td>NaN</td>\n      <td>NaN</td>\n      <td>application/x-recordio-protobuf</td>\n      <td>s3://sagemaker-sa-east-1-388295382521/sagemake...</td>\n      <td>application/x-recordio-protobuf</td>\n      <td>s3://sagemaker-sa-east-1-388295382521/sagemake...</td>\n      <td>NaN</td>\n      <td>NaN</td>\n      <td>[tuning-job-1-bff8cbf333be4ba5b0-201-522d845e-...</td>\n      <td>[automl-dm-30-02-15-18-aws-auto-ml-job]</td>\n      <td>0.000005</td>\n      <td>0.321018</td>\n      <td>0.163821</td>\n      <td>0.002083</td>\n      <td>0.603872</td>\n      <td>5.0</td>\n      <td>1.762287</td>\n      <td>764.0</td>\n      <td>binary:logistic</td>\n      <td>true</td>\n      <td>0.959084</td>\n      <td>NaN</td>\n      <td>NaN</td>\n      <td>NaN</td>\n      <td>NaN</td>\n      <td>NaN</td>\n      <td>NaN</td>\n      <td>NaN</td>\n      <td>NaN</td>\n      <td>NaN</td>\n      <td>NaN</td>\n      <td>NaN</td>\n      <td>NaN</td>\n      <td>NaN</td>\n      <td>NaN</td>\n      <td>NaN</td>\n      <td>NaN</td>\n      <td>NaN</td>\n      <td>NaN</td>\n      <td>NaN</td>\n      <td>NaN</td>\n      <td>NaN</td>\n      <td>NaN</td>\n      <td>NaN</td>\n      <td>NaN</td>\n      <td>NaN</td>\n      <td>NaN</td>\n      <td>NaN</td>\n      <td>NaN</td>\n      <td>NaN</td>\n      <td>NaN</td>\n      <td>NaN</td>\n      <td>NaN</td>\n      <td>NaN</td>\n      <td>NaN</td>\n      <td>NaN</td>\n      <td>NaN</td>\n      <td>NaN</td>\n      <td>NaN</td>\n      <td>NaN</td>\n      <td>NaN</td>\n      <td>NaN</td>\n      <td>NaN</td>\n      <td>NaN</td>\n      <td>NaN</td>\n    </tr>\n    <tr>\n      <th>...</th>\n      <td>...</td>\n      <td>...</td>\n      <td>...</td>\n      <td>...</td>\n      <td>...</td>\n      <td>...</td>\n      <td>...</td>\n      <td>...</td>\n      <td>...</td>\n      <td>...</td>\n      <td>...</td>\n      <td>...</td>\n      <td>...</td>\n      <td>...</td>\n      <td>...</td>\n      <td>...</td>\n      <td>...</td>\n      <td>...</td>\n      <td>...</td>\n      <td>...</td>\n      <td>...</td>\n      <td>...</td>\n      <td>...</td>\n      <td>...</td>\n      <td>...</td>\n      <td>...</td>\n      <td>...</td>\n      <td>...</td>\n      <td>...</td>\n      <td>...</td>\n      <td>...</td>\n      <td>...</td>\n      <td>...</td>\n      <td>...</td>\n      <td>...</td>\n      <td>...</td>\n      <td>...</td>\n      <td>...</td>\n      <td>...</td>\n      <td>...</td>\n      <td>...</td>\n      <td>...</td>\n      <td>...</td>\n      <td>...</td>\n      <td>...</td>\n      <td>...</td>\n      <td>...</td>\n      <td>...</td>\n      <td>...</td>\n      <td>...</td>\n      <td>...</td>\n      <td>...</td>\n      <td>...</td>\n      <td>...</td>\n      <td>...</td>\n      <td>...</td>\n      <td>...</td>\n      <td>...</td>\n      <td>...</td>\n      <td>...</td>\n      <td>...</td>\n      <td>...</td>\n      <td>...</td>\n      <td>...</td>\n      <td>...</td>\n      <td>...</td>\n      <td>...</td>\n      <td>...</td>\n      <td>...</td>\n      <td>...</td>\n      <td>...</td>\n      <td>...</td>\n      <td>...</td>\n      <td>...</td>\n      <td>...</td>\n      <td>...</td>\n      <td>...</td>\n      <td>...</td>\n      <td>...</td>\n      <td>...</td>\n      <td>...</td>\n      <td>...</td>\n      <td>...</td>\n      <td>...</td>\n      <td>...</td>\n      <td>...</td>\n      <td>...</td>\n      <td>...</td>\n      <td>...</td>\n      <td>...</td>\n      <td>...</td>\n      <td>...</td>\n      <td>...</td>\n      <td>...</td>\n      <td>...</td>\n      <td>...</td>\n      <td>...</td>\n      <td>...</td>\n      <td>...</td>\n      <td>...</td>\n      <td>...</td>\n      <td>...</td>\n      <td>...</td>\n      <td>...</td>\n      <td>...</td>\n      <td>...</td>\n      <td>...</td>\n      <td>...</td>\n      <td>...</td>\n      <td>...</td>\n      <td>...</td>\n      <td>...</td>\n      <td>...</td>\n      <td>...</td>\n      <td>...</td>\n      <td>...</td>\n      <td>...</td>\n      <td>...</td>\n      <td>...</td>\n      <td>...</td>\n      <td>...</td>\n      <td>...</td>\n      <td>...</td>\n      <td>...</td>\n      <td>...</td>\n      <td>...</td>\n      <td>...</td>\n      <td>...</td>\n      <td>...</td>\n      <td>...</td>\n      <td>...</td>\n      <td>...</td>\n      <td>...</td>\n      <td>...</td>\n      <td>...</td>\n      <td>...</td>\n      <td>...</td>\n      <td>...</td>\n      <td>...</td>\n      <td>...</td>\n      <td>...</td>\n      <td>...</td>\n      <td>...</td>\n      <td>...</td>\n      <td>...</td>\n    </tr>\n    <tr>\n      <th>207</th>\n      <td>automl-dm--dpp1-1-0a654cebfd0749ac8bcc6cc74e42...</td>\n      <td>automl-dm--dpp1-1-0a654cebfd0749ac8bcc6cc74e42...</td>\n      <td>arn:aws:sagemaker:sa-east-1:388295382521:train...</td>\n      <td>737474898029.dkr.ecr.sa-east-1.amazonaws.com/s...</td>\n      <td>1.0</td>\n      <td>ml.m5.4xlarge</td>\n      <td>50.0</td>\n      <td>NaN</td>\n      <td>NaN</td>\n      <td>NaN</td>\n      <td>NaN</td>\n      <td>NaN</td>\n      <td>NaN</td>\n      <td>NaN</td>\n      <td>NaN</td>\n      <td>NaN</td>\n      <td>NaN</td>\n      <td>NaN</td>\n      <td>NaN</td>\n      <td>NaN</td>\n      <td>NaN</td>\n      <td>NaN</td>\n      <td>NaN</td>\n      <td>NaN</td>\n      <td>NaN</td>\n      <td>NaN</td>\n      <td>NaN</td>\n      <td>NaN</td>\n      <td>NaN</td>\n      <td>NaN</td>\n      <td>NaN</td>\n      <td>NaN</td>\n      <td>NaN</td>\n      <td>NaN</td>\n      <td>NaN</td>\n      <td>NaN</td>\n      <td>NaN</td>\n      <td>NaN</td>\n      <td>NaN</td>\n      <td>NaN</td>\n      <td>NaN</td>\n      <td>NaN</td>\n      <td>NaN</td>\n      <td>NaN</td>\n      <td>NaN</td>\n      <td>NaN</td>\n      <td>NaN</td>\n      <td>NaN</td>\n      <td>NaN</td>\n      <td>NaN</td>\n      <td>NaN</td>\n      <td>NaN</td>\n      <td>NaN</td>\n      <td>NaN</td>\n      <td>NaN</td>\n      <td>NaN</td>\n      <td>NaN</td>\n      <td>NaN</td>\n      <td>NaN</td>\n      <td>NaN</td>\n      <td>NaN</td>\n      <td>NaN</td>\n      <td>NaN</td>\n      <td>NaN</td>\n      <td>NaN</td>\n      <td>NaN</td>\n      <td>NaN</td>\n      <td>NaN</td>\n      <td>NaN</td>\n      <td>NaN</td>\n      <td>NaN</td>\n      <td>NaN</td>\n      <td>NaN</td>\n      <td>NaN</td>\n      <td>NaN</td>\n      <td>NaN</td>\n      <td>NaN</td>\n      <td>NaN</td>\n      <td>NaN</td>\n      <td>NaN</td>\n      <td>NaN</td>\n      <td>NaN</td>\n      <td>text/csv</td>\n      <td>s3://sagemaker-sa-east-1-388295382521/sagemake...</td>\n      <td>NaN</td>\n      <td>NaN</td>\n      <td>NaN</td>\n      <td>s3://sagemaker-sa-east-1-388295382521/sagemake...</td>\n      <td>[tuning-job-1-bff8cbf333be4ba5b0-154-06c19070-...</td>\n      <td>[automl-dm-30-02-15-18-aws-auto-ml-job, automl...</td>\n      <td>NaN</td>\n      <td>NaN</td>\n      <td>NaN</td>\n      <td>NaN</td>\n      <td>NaN</td>\n      <td>NaN</td>\n      <td>NaN</td>\n      <td>NaN</td>\n      <td>NaN</td>\n      <td>NaN</td>\n      <td>NaN</td>\n      <td>NaN</td>\n      <td>NaN</td>\n      <td>NaN</td>\n      <td>NaN</td>\n      <td>NaN</td>\n      <td>NaN</td>\n      <td>NaN</td>\n      <td>NaN</td>\n      <td>NaN</td>\n      <td>NaN</td>\n      <td>NaN</td>\n      <td>NaN</td>\n      <td>NaN</td>\n      <td>NaN</td>\n      <td>NaN</td>\n      <td>NaN</td>\n      <td>NaN</td>\n      <td>NaN</td>\n      <td>NaN</td>\n      <td>NaN</td>\n      <td>NaN</td>\n      <td>NaN</td>\n      <td>NaN</td>\n      <td>NaN</td>\n      <td>NaN</td>\n      <td>NaN</td>\n      <td>NaN</td>\n      <td>NaN</td>\n      <td>NaN</td>\n      <td>NaN</td>\n      <td>NaN</td>\n      <td>candidate_data_processors.dpp1</td>\n      <td>candidate_data_processors.trainer</td>\n      <td>/opt/ml/input/data/code</td>\n      <td>application/x-code</td>\n      <td>s3://sagemaker-sa-east-1-388295382521/sagemake...</td>\n      <td>NaN</td>\n      <td>NaN</td>\n      <td>NaN</td>\n      <td>NaN</td>\n      <td>NaN</td>\n      <td>NaN</td>\n      <td>NaN</td>\n      <td>NaN</td>\n    </tr>\n    <tr>\n      <th>208</th>\n      <td>automl-dm--dpp4-1-53dc0784dc364daa9aaf089c7305...</td>\n      <td>automl-dm--dpp4-1-53dc0784dc364daa9aaf089c7305...</td>\n      <td>arn:aws:sagemaker:sa-east-1:388295382521:train...</td>\n      <td>737474898029.dkr.ecr.sa-east-1.amazonaws.com/s...</td>\n      <td>1.0</td>\n      <td>ml.m5.4xlarge</td>\n      <td>50.0</td>\n      <td>NaN</td>\n      <td>NaN</td>\n      <td>NaN</td>\n      <td>NaN</td>\n      <td>NaN</td>\n      <td>NaN</td>\n      <td>NaN</td>\n      <td>NaN</td>\n      <td>NaN</td>\n      <td>NaN</td>\n      <td>NaN</td>\n      <td>NaN</td>\n      <td>NaN</td>\n      <td>NaN</td>\n      <td>NaN</td>\n      <td>NaN</td>\n      <td>NaN</td>\n      <td>NaN</td>\n      <td>NaN</td>\n      <td>NaN</td>\n      <td>NaN</td>\n      <td>NaN</td>\n      <td>NaN</td>\n      <td>NaN</td>\n      <td>NaN</td>\n      <td>NaN</td>\n      <td>NaN</td>\n      <td>NaN</td>\n      <td>NaN</td>\n      <td>NaN</td>\n      <td>NaN</td>\n      <td>NaN</td>\n      <td>NaN</td>\n      <td>NaN</td>\n      <td>NaN</td>\n      <td>NaN</td>\n      <td>NaN</td>\n      <td>NaN</td>\n      <td>NaN</td>\n      <td>NaN</td>\n      <td>NaN</td>\n      <td>NaN</td>\n      <td>NaN</td>\n      <td>NaN</td>\n      <td>NaN</td>\n      <td>NaN</td>\n      <td>NaN</td>\n      <td>NaN</td>\n      <td>NaN</td>\n      <td>NaN</td>\n      <td>NaN</td>\n      <td>NaN</td>\n      <td>NaN</td>\n      <td>NaN</td>\n      <td>NaN</td>\n      <td>NaN</td>\n      <td>NaN</td>\n      <td>NaN</td>\n      <td>NaN</td>\n      <td>NaN</td>\n      <td>NaN</td>\n      <td>NaN</td>\n      <td>NaN</td>\n      <td>NaN</td>\n      <td>NaN</td>\n      <td>NaN</td>\n      <td>NaN</td>\n      <td>NaN</td>\n      <td>NaN</td>\n      <td>NaN</td>\n      <td>NaN</td>\n      <td>NaN</td>\n      <td>NaN</td>\n      <td>NaN</td>\n      <td>NaN</td>\n      <td>text/csv</td>\n      <td>s3://sagemaker-sa-east-1-388295382521/sagemake...</td>\n      <td>NaN</td>\n      <td>NaN</td>\n      <td>NaN</td>\n      <td>s3://sagemaker-sa-east-1-388295382521/sagemake...</td>\n      <td>[tuning-job-1-bff8cbf333be4ba5b0-149-7c5fe21f-...</td>\n      <td>[automl-dm-30-02-15-18-aws-auto-ml-job, automl...</td>\n      <td>NaN</td>\n      <td>NaN</td>\n      <td>NaN</td>\n      <td>NaN</td>\n      <td>NaN</td>\n      <td>NaN</td>\n      <td>NaN</td>\n      <td>NaN</td>\n      <td>NaN</td>\n      <td>NaN</td>\n      <td>NaN</td>\n      <td>NaN</td>\n      <td>NaN</td>\n      <td>NaN</td>\n      <td>NaN</td>\n      <td>NaN</td>\n      <td>NaN</td>\n      <td>NaN</td>\n      <td>NaN</td>\n      <td>NaN</td>\n      <td>NaN</td>\n      <td>NaN</td>\n      <td>NaN</td>\n      <td>NaN</td>\n      <td>NaN</td>\n      <td>NaN</td>\n      <td>NaN</td>\n      <td>NaN</td>\n      <td>NaN</td>\n      <td>NaN</td>\n      <td>NaN</td>\n      <td>NaN</td>\n      <td>NaN</td>\n      <td>NaN</td>\n      <td>NaN</td>\n      <td>NaN</td>\n      <td>NaN</td>\n      <td>NaN</td>\n      <td>NaN</td>\n      <td>NaN</td>\n      <td>NaN</td>\n      <td>NaN</td>\n      <td>candidate_data_processors.dpp4</td>\n      <td>candidate_data_processors.trainer</td>\n      <td>/opt/ml/input/data/code</td>\n      <td>application/x-code</td>\n      <td>s3://sagemaker-sa-east-1-388295382521/sagemake...</td>\n      <td>NaN</td>\n      <td>NaN</td>\n      <td>NaN</td>\n      <td>NaN</td>\n      <td>NaN</td>\n      <td>NaN</td>\n      <td>NaN</td>\n      <td>NaN</td>\n    </tr>\n    <tr>\n      <th>209</th>\n      <td>automl-dm--dpp3-1-93f768369dfe49acbf002e22b3cc...</td>\n      <td>automl-dm--dpp3-1-93f768369dfe49acbf002e22b3cc...</td>\n      <td>arn:aws:sagemaker:sa-east-1:388295382521:train...</td>\n      <td>737474898029.dkr.ecr.sa-east-1.amazonaws.com/s...</td>\n      <td>1.0</td>\n      <td>ml.m5.4xlarge</td>\n      <td>50.0</td>\n      <td>NaN</td>\n      <td>NaN</td>\n      <td>NaN</td>\n      <td>NaN</td>\n      <td>NaN</td>\n      <td>NaN</td>\n      <td>NaN</td>\n      <td>NaN</td>\n      <td>NaN</td>\n      <td>NaN</td>\n      <td>NaN</td>\n      <td>NaN</td>\n      <td>NaN</td>\n      <td>NaN</td>\n      <td>NaN</td>\n      <td>NaN</td>\n      <td>NaN</td>\n      <td>NaN</td>\n      <td>NaN</td>\n      <td>NaN</td>\n      <td>NaN</td>\n      <td>NaN</td>\n      <td>NaN</td>\n      <td>NaN</td>\n      <td>NaN</td>\n      <td>NaN</td>\n      <td>NaN</td>\n      <td>NaN</td>\n      <td>NaN</td>\n      <td>NaN</td>\n      <td>NaN</td>\n      <td>NaN</td>\n      <td>NaN</td>\n      <td>NaN</td>\n      <td>NaN</td>\n      <td>NaN</td>\n      <td>NaN</td>\n      <td>NaN</td>\n      <td>NaN</td>\n      <td>NaN</td>\n      <td>NaN</td>\n      <td>NaN</td>\n      <td>NaN</td>\n      <td>NaN</td>\n      <td>NaN</td>\n      <td>NaN</td>\n      <td>NaN</td>\n      <td>NaN</td>\n      <td>NaN</td>\n      <td>NaN</td>\n      <td>NaN</td>\n      <td>NaN</td>\n      <td>NaN</td>\n      <td>NaN</td>\n      <td>NaN</td>\n      <td>NaN</td>\n      <td>NaN</td>\n      <td>NaN</td>\n      <td>NaN</td>\n      <td>NaN</td>\n      <td>NaN</td>\n      <td>NaN</td>\n      <td>NaN</td>\n      <td>NaN</td>\n      <td>NaN</td>\n      <td>NaN</td>\n      <td>NaN</td>\n      <td>NaN</td>\n      <td>NaN</td>\n      <td>NaN</td>\n      <td>NaN</td>\n      <td>NaN</td>\n      <td>NaN</td>\n      <td>NaN</td>\n      <td>NaN</td>\n      <td>text/csv</td>\n      <td>s3://sagemaker-sa-east-1-388295382521/sagemake...</td>\n      <td>NaN</td>\n      <td>NaN</td>\n      <td>NaN</td>\n      <td>s3://sagemaker-sa-east-1-388295382521/sagemake...</td>\n      <td>[tuning-job-1-bff8cbf333be4ba5b0-201-522d845e-...</td>\n      <td>[automl-dm-30-02-15-18-aws-auto-ml-job, automl...</td>\n      <td>NaN</td>\n      <td>NaN</td>\n      <td>NaN</td>\n      <td>NaN</td>\n      <td>NaN</td>\n      <td>NaN</td>\n      <td>NaN</td>\n      <td>NaN</td>\n      <td>NaN</td>\n      <td>NaN</td>\n      <td>NaN</td>\n      <td>NaN</td>\n      <td>NaN</td>\n      <td>NaN</td>\n      <td>NaN</td>\n      <td>NaN</td>\n      <td>NaN</td>\n      <td>NaN</td>\n      <td>NaN</td>\n      <td>NaN</td>\n      <td>NaN</td>\n      <td>NaN</td>\n      <td>NaN</td>\n      <td>NaN</td>\n      <td>NaN</td>\n      <td>NaN</td>\n      <td>NaN</td>\n      <td>NaN</td>\n      <td>NaN</td>\n      <td>NaN</td>\n      <td>NaN</td>\n      <td>NaN</td>\n      <td>NaN</td>\n      <td>NaN</td>\n      <td>NaN</td>\n      <td>NaN</td>\n      <td>NaN</td>\n      <td>NaN</td>\n      <td>NaN</td>\n      <td>NaN</td>\n      <td>NaN</td>\n      <td>NaN</td>\n      <td>candidate_data_processors.dpp3</td>\n      <td>candidate_data_processors.trainer</td>\n      <td>/opt/ml/input/data/code</td>\n      <td>application/x-code</td>\n      <td>s3://sagemaker-sa-east-1-388295382521/sagemake...</td>\n      <td>NaN</td>\n      <td>NaN</td>\n      <td>NaN</td>\n      <td>NaN</td>\n      <td>NaN</td>\n      <td>NaN</td>\n      <td>NaN</td>\n      <td>NaN</td>\n    </tr>\n    <tr>\n      <th>210</th>\n      <td>automl-dm--dpp0-1-bd210fc5b4f64f078ccc08d4b3a1...</td>\n      <td>automl-dm--dpp0-1-bd210fc5b4f64f078ccc08d4b3a1...</td>\n      <td>arn:aws:sagemaker:sa-east-1:388295382521:train...</td>\n      <td>737474898029.dkr.ecr.sa-east-1.amazonaws.com/s...</td>\n      <td>1.0</td>\n      <td>ml.m5.4xlarge</td>\n      <td>50.0</td>\n      <td>NaN</td>\n      <td>NaN</td>\n      <td>NaN</td>\n      <td>NaN</td>\n      <td>NaN</td>\n      <td>NaN</td>\n      <td>NaN</td>\n      <td>NaN</td>\n      <td>NaN</td>\n      <td>NaN</td>\n      <td>NaN</td>\n      <td>NaN</td>\n      <td>NaN</td>\n      <td>NaN</td>\n      <td>NaN</td>\n      <td>NaN</td>\n      <td>NaN</td>\n      <td>NaN</td>\n      <td>NaN</td>\n      <td>NaN</td>\n      <td>NaN</td>\n      <td>NaN</td>\n      <td>NaN</td>\n      <td>NaN</td>\n      <td>NaN</td>\n      <td>NaN</td>\n      <td>NaN</td>\n      <td>NaN</td>\n      <td>NaN</td>\n      <td>NaN</td>\n      <td>NaN</td>\n      <td>NaN</td>\n      <td>NaN</td>\n      <td>NaN</td>\n      <td>NaN</td>\n      <td>NaN</td>\n      <td>NaN</td>\n      <td>NaN</td>\n      <td>NaN</td>\n      <td>NaN</td>\n      <td>NaN</td>\n      <td>NaN</td>\n      <td>NaN</td>\n      <td>NaN</td>\n      <td>NaN</td>\n      <td>NaN</td>\n      <td>NaN</td>\n      <td>NaN</td>\n      <td>NaN</td>\n      <td>NaN</td>\n      <td>NaN</td>\n      <td>NaN</td>\n      <td>NaN</td>\n      <td>NaN</td>\n      <td>NaN</td>\n      <td>NaN</td>\n      <td>NaN</td>\n      <td>NaN</td>\n      <td>NaN</td>\n      <td>NaN</td>\n      <td>NaN</td>\n      <td>NaN</td>\n      <td>NaN</td>\n      <td>NaN</td>\n      <td>NaN</td>\n      <td>NaN</td>\n      <td>NaN</td>\n      <td>NaN</td>\n      <td>NaN</td>\n      <td>NaN</td>\n      <td>NaN</td>\n      <td>NaN</td>\n      <td>NaN</td>\n      <td>NaN</td>\n      <td>NaN</td>\n      <td>text/csv</td>\n      <td>s3://sagemaker-sa-east-1-388295382521/sagemake...</td>\n      <td>NaN</td>\n      <td>NaN</td>\n      <td>NaN</td>\n      <td>s3://sagemaker-sa-east-1-388295382521/sagemake...</td>\n      <td>[tuning-job-1-bff8cbf333be4ba5b0-168-191dd2d5-...</td>\n      <td>[automl-dm-30-02-15-18-aws-auto-ml-job, automl...</td>\n      <td>NaN</td>\n      <td>NaN</td>\n      <td>NaN</td>\n      <td>NaN</td>\n      <td>NaN</td>\n      <td>NaN</td>\n      <td>NaN</td>\n      <td>NaN</td>\n      <td>NaN</td>\n      <td>NaN</td>\n      <td>NaN</td>\n      <td>NaN</td>\n      <td>NaN</td>\n      <td>NaN</td>\n      <td>NaN</td>\n      <td>NaN</td>\n      <td>NaN</td>\n      <td>NaN</td>\n      <td>NaN</td>\n      <td>NaN</td>\n      <td>NaN</td>\n      <td>NaN</td>\n      <td>NaN</td>\n      <td>NaN</td>\n      <td>NaN</td>\n      <td>NaN</td>\n      <td>NaN</td>\n      <td>NaN</td>\n      <td>NaN</td>\n      <td>NaN</td>\n      <td>NaN</td>\n      <td>NaN</td>\n      <td>NaN</td>\n      <td>NaN</td>\n      <td>NaN</td>\n      <td>NaN</td>\n      <td>NaN</td>\n      <td>NaN</td>\n      <td>NaN</td>\n      <td>NaN</td>\n      <td>NaN</td>\n      <td>NaN</td>\n      <td>candidate_data_processors.dpp0</td>\n      <td>candidate_data_processors.trainer</td>\n      <td>/opt/ml/input/data/code</td>\n      <td>application/x-code</td>\n      <td>s3://sagemaker-sa-east-1-388295382521/sagemake...</td>\n      <td>NaN</td>\n      <td>NaN</td>\n      <td>NaN</td>\n      <td>NaN</td>\n      <td>NaN</td>\n      <td>NaN</td>\n      <td>NaN</td>\n      <td>NaN</td>\n    </tr>\n    <tr>\n      <th>211</th>\n      <td>db-1-0dd30b7b5b0444cc97790cffc06a74fca5fb75749...</td>\n      <td>db-1-0dd30b7b5b0444cc97790cffc06a74fca5fb75749...</td>\n      <td>arn:aws:sagemaker:sa-east-1:388295382521:proce...</td>\n      <td>NaN</td>\n      <td>1.0</td>\n      <td>ml.m5.2xlarge</td>\n      <td>250.0</td>\n      <td>NaN</td>\n      <td>NaN</td>\n      <td>NaN</td>\n      <td>NaN</td>\n      <td>NaN</td>\n      <td>NaN</td>\n      <td>NaN</td>\n      <td>NaN</td>\n      <td>NaN</td>\n      <td>NaN</td>\n      <td>NaN</td>\n      <td>NaN</td>\n      <td>NaN</td>\n      <td>NaN</td>\n      <td>NaN</td>\n      <td>NaN</td>\n      <td>NaN</td>\n      <td>NaN</td>\n      <td>NaN</td>\n      <td>NaN</td>\n      <td>NaN</td>\n      <td>NaN</td>\n      <td>NaN</td>\n      <td>NaN</td>\n      <td>NaN</td>\n      <td>NaN</td>\n      <td>NaN</td>\n      <td>NaN</td>\n      <td>NaN</td>\n      <td>NaN</td>\n      <td>NaN</td>\n      <td>NaN</td>\n      <td>NaN</td>\n      <td>NaN</td>\n      <td>NaN</td>\n      <td>NaN</td>\n      <td>NaN</td>\n      <td>NaN</td>\n      <td>NaN</td>\n      <td>NaN</td>\n      <td>NaN</td>\n      <td>NaN</td>\n      <td>NaN</td>\n      <td>NaN</td>\n      <td>NaN</td>\n      <td>NaN</td>\n      <td>NaN</td>\n      <td>NaN</td>\n      <td>NaN</td>\n      <td>NaN</td>\n      <td>NaN</td>\n      <td>NaN</td>\n      <td>NaN</td>\n      <td>NaN</td>\n      <td>NaN</td>\n      <td>NaN</td>\n      <td>NaN</td>\n      <td>NaN</td>\n      <td>NaN</td>\n      <td>NaN</td>\n      <td>NaN</td>\n      <td>NaN</td>\n      <td>NaN</td>\n      <td>NaN</td>\n      <td>NaN</td>\n      <td>NaN</td>\n      <td>NaN</td>\n      <td>NaN</td>\n      <td>NaN</td>\n      <td>NaN</td>\n      <td>NaN</td>\n      <td>NaN</td>\n      <td>NaN</td>\n      <td>NaN</td>\n      <td>NaN</td>\n      <td>None</td>\n      <td>s3://sagemaker-sa-east-1-388295382521/sagemake...</td>\n      <td>NaN</td>\n      <td>NaN</td>\n      <td>NaN</td>\n      <td>NaN</td>\n      <td>[tuning-job-1-bff8cbf333be4ba5b0-201-522d845e-...</td>\n      <td>[automl-dm-30-02-15-18-aws-auto-ml-job, automl...</td>\n      <td>NaN</td>\n      <td>NaN</td>\n      <td>NaN</td>\n      <td>NaN</td>\n      <td>NaN</td>\n      <td>NaN</td>\n      <td>NaN</td>\n      <td>NaN</td>\n      <td>NaN</td>\n      <td>NaN</td>\n      <td>NaN</td>\n      <td>NaN</td>\n      <td>NaN</td>\n      <td>NaN</td>\n      <td>NaN</td>\n      <td>NaN</td>\n      <td>NaN</td>\n      <td>NaN</td>\n      <td>NaN</td>\n      <td>NaN</td>\n      <td>NaN</td>\n      <td>NaN</td>\n      <td>NaN</td>\n      <td>NaN</td>\n      <td>NaN</td>\n      <td>NaN</td>\n      <td>NaN</td>\n      <td>NaN</td>\n      <td>NaN</td>\n      <td>NaN</td>\n      <td>NaN</td>\n      <td>NaN</td>\n      <td>NaN</td>\n      <td>NaN</td>\n      <td>NaN</td>\n      <td>NaN</td>\n      <td>NaN</td>\n      <td>NaN</td>\n      <td>NaN</td>\n      <td>NaN</td>\n      <td>NaN</td>\n      <td>NaN</td>\n      <td>NaN</td>\n      <td>NaN</td>\n      <td>NaN</td>\n      <td>NaN</td>\n      <td>NaN</td>\n      <td>Pipe</td>\n      <td>automl-dm-30-02-15-18</td>\n      <td>classification</td>\n      <td>5</td>\n      <td>NaN</td>\n      <td>011351689081.dkr.ecr.sa-east-1.amazonaws.com/d...</td>\n      <td>NaN</td>\n      <td>s3://sagemaker-sa-east-1-388295382521/sagemake...</td>\n    </tr>\n  </tbody>\n</table>\n<p>212 rows × 145 columns</p>\n</div>"
     },
     "metadata": {},
     "execution_count": 8
    }
   ],
   "source": [
    "from sagemaker.analytics import ExperimentAnalytics\n",
    "\n",
    "analytics = ExperimentAnalytics(\n",
    "    sagemaker_session=sess, \n",
    "    experiment_name=auto_ml_job_name+'-aws-auto-ml-job'\n",
    ")\n",
    "\n",
    "df = analytics.dataframe()\n",
    "df"
   ]
  },
  {
   "cell_type": "code",
   "execution_count": 9,
   "metadata": {},
   "outputs": [
    {
     "output_type": "stream",
     "name": "stdout",
     "text": [
      "1  tuning-job-1-bff8cbf333be4ba5b0-169-79cce1e7  0.9659600257873535\n2  tuning-job-1-bff8cbf333be4ba5b0-178-fbda304a  0.9659600257873535\n3  tuning-job-1-bff8cbf333be4ba5b0-188-83ca6494  0.9650899767875671\n4  tuning-job-1-bff8cbf333be4ba5b0-194-c51b4698  0.9650899767875671\n5  tuning-job-1-bff8cbf333be4ba5b0-162-2c0df7e1  0.9650899767875671\n6  tuning-job-1-bff8cbf333be4ba5b0-177-796c2ba3  0.9650899767875671\n7  tuning-job-1-bff8cbf333be4ba5b0-153-7f4bde04  0.9642199873924255\n8  tuning-job-1-bff8cbf333be4ba5b0-131-a200691c  0.9642199873924255\n9  tuning-job-1-bff8cbf333be4ba5b0-173-36138a14  0.9642199873924255\n10  tuning-job-1-bff8cbf333be4ba5b0-147-11e07f8a  0.9642199873924255\n"
     ]
    }
   ],
   "source": [
    "candidates = sm.list_candidates_for_auto_ml_job(AutoMLJobName=auto_ml_job_name, \n",
    "                                                SortBy='FinalObjectiveMetricValue')['Candidates']\n",
    "index = 1\n",
    "for candidate in candidates:\n",
    "  print (str(index) + \"  \" \n",
    "         + candidate['CandidateName'] + \"  \" \n",
    "         + str(candidate['FinalAutoMLJobObjectiveMetric']['Value']))\n",
    "  index += 1"
   ]
  },
  {
   "cell_type": "code",
   "execution_count": 10,
   "metadata": {},
   "outputs": [
    {
     "output_type": "stream",
     "name": "stdout",
     "text": [
      "Candidate name: tuning-job-1-bff8cbf333be4ba5b0-178-fbda304a\n"
     ]
    }
   ],
   "source": [
    "best_candidate = sm.describe_auto_ml_job(AutoMLJobName=auto_ml_job_name)['BestCandidate']\n",
    "best_candidate_name = best_candidate['CandidateName']\n",
    "\n",
    "print(\"Candidate name: \" + best_candidate_name)"
   ]
  },
  {
   "cell_type": "code",
   "execution_count": 11,
   "metadata": {},
   "outputs": [
    {
     "output_type": "stream",
     "name": "stdout",
     "text": [
      "737474898029.dkr.ecr.sa-east-1.amazonaws.com/sagemaker-sklearn-automl:0.2-1-cpu-py3\ns3://sagemaker-sa-east-1-388295382521/sagemaker/automl-dm/output/automl-dm-30-02-15-18/data-processor-models/automl-dm--dpp3-1-93f768369dfe49acbf002e22b3cc1c27a49e7d345c664/output/model.tar.gz\n-\n737474898029.dkr.ecr.sa-east-1.amazonaws.com/sagemaker-xgboost:1.0-1-cpu-py3\ns3://sagemaker-sa-east-1-388295382521/sagemaker/automl-dm/output/automl-dm-30-02-15-18/tuning/automl-dm--dpp3-xgb/tuning-job-1-bff8cbf333be4ba5b0-178-fbda304a/output/model.tar.gz\n-\n737474898029.dkr.ecr.sa-east-1.amazonaws.com/sagemaker-sklearn-automl:0.2-1-cpu-py3\ns3://sagemaker-sa-east-1-388295382521/sagemaker/automl-dm/output/automl-dm-30-02-15-18/data-processor-models/automl-dm--dpp3-1-93f768369dfe49acbf002e22b3cc1c27a49e7d345c664/output/model.tar.gz\n-\n"
     ]
    }
   ],
   "source": [
    "for container in best_candidate['InferenceContainers']:\n",
    "    print(container['Image'])\n",
    "    print(container['ModelDataUrl'])\n",
    "    print('-')"
   ]
  },
  {
   "cell_type": "code",
   "execution_count": 14,
   "metadata": {
    "tags": []
   },
   "outputs": [],
   "source": [
    "# model_name = 'automl-dm-model-' + timestamp_suffix\n",
    "\n",
    "# model_arn = sm.create_model(Containers=best_candidate['InferenceContainers'],\n",
    "#                             ModelName=model_name,\n",
    "#                             ExecutionRoleArn=role)\n",
    "\n",
    "# print('Model ARN: ', model_arn['ModelArn'])\n",
    "\n",
    "############## use this to make iferences\n",
    "from sagemaker import AutoML\n",
    "model_name = 'newnamemodelfinish'\n",
    "aml = AutoML.attach(auto_ml_job_name='automl-dm-30-02-15-18')\n",
    "aml_best_model = aml.create_model(name=model_name,\n",
    "                                  candidate=best_candidate,\n",
    "                                  inference_response_keys=[\"predicted_label\", \"probability\", \"labels\", \"probabilities\"])\n",
    "\n",
    "aml_transformer = aml_best_model.transformer(accept='text/csv',\n",
    "                                            assemble_with='Line',\n",
    "                                            instance_type='ml.m5.xlarge',\n",
    "                                            instance_count=1,)\n",
    "\n",
    "\n"
   ]
  },
  {
   "cell_type": "code",
   "execution_count": 15,
   "metadata": {},
   "outputs": [
    {
     "output_type": "stream",
     "name": "stdout",
     "text": [
      "s3://jsimon-capture-saeast1/newnamemodelfinish/\n"
     ]
    }
   ],
   "source": [
    "# Don't forget to update the bucket! It must be in the same region as SageMaker\n",
    "s3_capture_path = 's3://jsimon-capture-saeast1/' + model_name + '/'\n",
    "\n",
    "print(s3_capture_path)"
   ]
  },
  {
   "cell_type": "code",
   "execution_count": 16,
   "metadata": {},
   "outputs": [],
   "source": [
    "data_capture_configuration = {\n",
    "    \"EnableCapture\": True, # flag turns data capture on and off\n",
    "    \"DestinationS3Uri\": s3_capture_path, # s3 location where captured data is saved\n",
    "    \"InitialSamplingPercentage\": 100, # sampling rate to capture data. max is 100%\n",
    "    \"CaptureOptions\": [\n",
    "       {\n",
    "            \"CaptureMode\": \"Output\" # The type of capture this option enables. Values can be: [Output/Input]\n",
    "        },\n",
    "        {\n",
    "            \"CaptureMode\": \"Input\" # The type of capture this option enables. Values can be: [Output/Input]\n",
    "        }\n",
    "    ],\n",
    "    \"CaptureContentTypeHeader\": {\n",
    "       \"CsvContentTypes\": [\"text/csv\"], # headers which should signal to decode the payload into CSV format \n",
    "       \"JsonContentTypes\": [\"application/json\"] # headers which should signal to decode the payload into JSON format \n",
    "    }\n",
    "}"
   ]
  },
  {
   "cell_type": "code",
   "execution_count": null,
   "metadata": {},
   "outputs": [],
   "source": [
    "# ############## use this to make iferences\n",
    "# from sagemaker import AutoML\n",
    "\n",
    "# aml = AutoML.attach(auto_ml_job_name='automl-dm-30-02-15-18')\n",
    "# aml_best_model = aml.create_model(name='automl-dm-model-' + timestamp_suffix,\n",
    "#                                   candidate=best_candidate,\n",
    "#                                   inference_response_keys=[\"predicted_label\",'probabilities', 'probability' 'labels'])\n",
    "\n",
    "# aml_transformer = aml_best_model.transformer(accept='text/csv',\n",
    "#                                             assemble_with='Line',\n",
    "#                                             instance_type='ml.m5.xlarge',\n",
    "#                                             instance_count=1,)"
   ]
  },
  {
   "cell_type": "code",
   "execution_count": 17,
   "metadata": {},
   "outputs": [
    {
     "output_type": "stream",
     "name": "stdout",
     "text": [
      "Endpoint configuration name: automl-dm-epc-30-03-36-26\n"
     ]
    }
   ],
   "source": [
    "# Endpoint configuration name\n",
    "timestamp_suffix = strftime('%d-%H-%M-%S', gmtime())\n",
    "epc_name = 'automl-dm-epc-' + timestamp_suffix\n",
    "print('Endpoint configuration name:', epc_name)\n",
    "\n",
    "ep_config = sm.create_endpoint_config(EndpointConfigName = epc_name,\n",
    "                                      ProductionVariants=[{'InstanceType':'ml.m4.xlarge',\n",
    "                                                           'InitialInstanceCount':1,\n",
    "                                                           'ModelName':model_name,\n",
    "                                                           'VariantName': 'AllTraffic'}],\n",
    "                                      DataCaptureConfig = data_capture_configuration)"
   ]
  },
  {
   "cell_type": "code",
   "execution_count": 18,
   "metadata": {},
   "outputs": [
    {
     "output_type": "stream",
     "name": "stdout",
     "text": [
      "Endpoint name: automl-dm-ep-30-03-36-26\n"
     ]
    }
   ],
   "source": [
    "# Endpoint name\n",
    "ep_name = 'automl-dm-ep-' + timestamp_suffix\n",
    "variant_name = 'automl-dm-variant-' + timestamp_suffix\n",
    "print('Endpoint name:', ep_name)\n",
    "# variant_name = \"automl-dm-variant-29-22-04-24\"\n",
    "# ep_name = \"automl-dm-ep-29-22-04-24\"\n",
    "\n",
    "create_endpoint_response = sm.create_endpoint(EndpointName=ep_name,\n",
    "                                              EndpointConfigName=epc_name)"
   ]
  },
  {
   "cell_type": "code",
   "execution_count": 19,
   "metadata": {},
   "outputs": [
    {
     "output_type": "stream",
     "name": "stdout",
     "text": [
      "Endpoint ARN   : arn:aws:sagemaker:sa-east-1:388295382521:endpoint/automl-dm-ep-30-03-36-26\nEndpoint status: InService\nCPU times: user 151 ms, sys: 31.9 ms, total: 183 ms\nWall time: 8min 36s\n"
     ]
    }
   ],
   "source": [
    "%%time\n",
    "sm.get_waiter('endpoint_in_service').wait(EndpointName=ep_name)\n",
    "\n",
    "resp = sm.describe_endpoint(EndpointName=ep_name)\n",
    "status = resp['EndpointStatus']\n",
    "\n",
    "print(\"Endpoint ARN   : \" + resp['EndpointArn'])\n",
    "print(\"Endpoint status: \" + status)"
   ]
  },
  {
   "cell_type": "code",
   "execution_count": 20,
   "metadata": {},
   "outputs": [
    {
     "output_type": "stream",
     "name": "stdout",
     "text": [
      "100 200 300 400 500 600 700 800 900 1000 1100 1200 1300 1400 Done\n"
     ]
    }
   ],
   "source": [
    "tp = tn = fp = fn = count = 0\n",
    "\n",
    "with open('automl-test.csv') as f:\n",
    "    lines = f.readlines()\n",
    "    for l in lines[1:]:   # Skip header\n",
    "        l = l.split(',')  # Split CSV line into features\n",
    "        label = l[-1]     # Store 'yes'/'no' label\n",
    "        l = l[:-1]        # Remove label\n",
    "        l = ','.join(l)   # Rebuild CSV line without label\n",
    "                \n",
    "        response = sm_rt.invoke_endpoint(EndpointName=ep_name, ContentType='text/csv', Accept='text/csv', Body=l)\n",
    "\n",
    "        response = response['Body'].read().decode(\"utf-8\")\n",
    "        #print (\"label %s response %s\" %(label,response))\n",
    "\n",
    "        if 'TRUE' in label:\n",
    "            # Sample is positive\n",
    "            if 'TRUE' in response:\n",
    "                # True positive\n",
    "                tp=tp+1\n",
    "            else:\n",
    "                # False negative\n",
    "                fn=fn+1\n",
    "        else:\n",
    "            # Sample is negative\n",
    "            if 'FAKE' in response:\n",
    "                # True negative\n",
    "                tn=tn+1\n",
    "            else:\n",
    "                # False positive\n",
    "                fp=fp+1\n",
    "        count = count+1\n",
    "        if (count % 100 == 0):   \n",
    "            sys.stdout.write(str(count)+' ')\n",
    "            \n",
    "print (\"Done\")"
   ]
  },
  {
   "cell_type": "code",
   "execution_count": 21,
   "metadata": {},
   "outputs": [
    {
     "output_type": "stream",
     "name": "stdout",
     "text": [
      "728 0\n0 709\nAccuracy: 1.0000, Precision: 1.0000, Recall: 1.0268, F1: 1.0132\n"
     ]
    }
   ],
   "source": [
    "print (\"%d %d\" % (tn, fp))\n",
    "print (\"%d %d\" % (fn, tp))\n",
    "\n",
    "accuracy  = (tp+tn)/(tp+tn+fp+fn)\n",
    "precision = tp/(tp+fp)\n",
    "recall    = tn/(tp+fn)\n",
    "f1        = (2*precision*recall)/(precision+recall)\n",
    "\n",
    "print (\"Accuracy: %.4f, Precision: %.4f, Recall: %.4f, F1: %.4f\" % (accuracy, precision, recall, f1))"
   ]
  },
  {
   "cell_type": "code",
   "execution_count": null,
   "metadata": {},
   "outputs": [],
   "source": [
    "%%sh -s \"$s3_capture_path\"\n",
    "\n",
    "aws s3 ls --recursive $1"
   ]
  },
  {
   "cell_type": "code",
   "execution_count": null,
   "metadata": {},
   "outputs": [],
   "source": [
    "############## use this to make iferences\n",
    "from sagemaker import AutoML\n",
    "\n",
    "aml = AutoML.attach(auto_ml_job_name='automl-dm-30-02-15-18')\n",
    "aml_best_model = aml.create_model(name='automl-dm-model-' + timestamp_suffix,\n",
    "                                  candidate=None,\n",
    "                                  inference_response_keys=[\"predicted_label\",'probabilities', 'probability' 'labels'])\n",
    "\n",
    "aml_transformer = aml_best_model.transformer(accept='text/csv',\n",
    "                                            assemble_with='Line',\n",
    "                                            instance_type='ml.m5.xlarge',\n",
    "                                            instance_count=1,)"
   ]
  }
 ]
}